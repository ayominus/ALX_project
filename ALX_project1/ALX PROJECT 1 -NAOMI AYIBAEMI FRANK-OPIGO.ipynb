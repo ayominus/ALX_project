{
 "cells": [
  {
   "cell_type": "markdown",
   "id": "d8038140",
   "metadata": {},
   "source": [
    "# Investigation of factors affecting average population happiness in world regions in 2017 using Gapminder world data\n",
    "\n",
    "\n",
    "## Table of Contents\n",
    "- Introduction\n",
    "- Data Wrangling\n",
    "- Exploratory Data Analysis\n",
    "- Conclusions"
   ]
  },
  {
   "cell_type": "markdown",
   "id": "d21d66a8",
   "metadata": {},
   "source": [
    "## Introduction\n",
    "\n",
    "### Dataset Description \n",
    "Name: **Gapminder world**\n",
    "\n",
    "The [Gapminder world](https://www.gapminder.org/data/) dataset spans decades and holds data regarding a number of factors that are associated with the lives of people around the world. It is noteworthy that some of the data from this source may have been updated in recent times.For the purpose of this analysis the dataset has been streamlined to data collected in 2017\n",
    "\n",
    "### Questions for Analysis\n",
    "\n",
    "1. Do regions with higher unemployment rates have happier populations?\n",
    "2. Are regions with better educated populations happier?\n",
    "3. Do happier populations have higher life expectancies?\n",
    "\n",
    "\n"
   ]
  },
  {
   "cell_type": "markdown",
   "id": "a0c2ebd7",
   "metadata": {},
   "source": [
    "## Data Wrangling"
   ]
  },
  {
   "cell_type": "code",
   "execution_count": 1,
   "id": "d8fa1be4",
   "metadata": {},
   "outputs": [],
   "source": [
    "import pandas as pd\n",
    "import numpy as np\n",
    "import matplotlib.pyplot as plt\n",
    "import seaborn as sns\n",
    "%matplotlib inline"
   ]
  },
  {
   "cell_type": "code",
   "execution_count": 2,
   "id": "4eebbd98",
   "metadata": {},
   "outputs": [
    {
     "name": "stdout",
     "output_type": "stream",
     "text": [
      "Requirement already satisfied: pandas==0.25.0 in c:\\users\\hp\\anaconda3\\envs\\my_env\\lib\\site-packages (0.25.0)\n",
      "Requirement already satisfied: pytz>=2017.2 in c:\\users\\hp\\anaconda3\\envs\\my_env\\lib\\site-packages (from pandas==0.25.0) (2021.3)\n",
      "Requirement already satisfied: numpy>=1.13.3 in c:\\users\\hp\\anaconda3\\envs\\my_env\\lib\\site-packages (from pandas==0.25.0) (1.21.5)\n",
      "Requirement already satisfied: python-dateutil>=2.6.1 in c:\\users\\hp\\anaconda3\\envs\\my_env\\lib\\site-packages (from pandas==0.25.0) (2.8.2)\n",
      "Requirement already satisfied: six>=1.5 in c:\\users\\hp\\anaconda3\\envs\\my_env\\lib\\site-packages (from python-dateutil>=2.6.1->pandas==0.25.0) (1.16.0)\n"
     ]
    }
   ],
   "source": [
    "!pip install --upgrade pandas==0.25.0"
   ]
  },
  {
   "cell_type": "code",
   "execution_count": 3,
   "id": "5ae2cc3e",
   "metadata": {},
   "outputs": [],
   "source": [
    "df_life=pd.read_csv('life_expectancy_years.csv')\n",
    "df_unemployment=pd.read_csv('long_term_unemployment_rate_.csv')\n",
    "df_happy=pd.read_csv('hapiscore_whr.csv')\n",
    "df_country=pd.read_csv('country.csv')\n",
    "df_edu=pd.read_csv('owid_education_idx.csv')"
   ]
  },
  {
   "cell_type": "markdown",
   "id": "6a57240a",
   "metadata": {},
   "source": [
    "### General Properties"
   ]
  },
  {
   "cell_type": "code",
   "execution_count": 4,
   "id": "1a429a12",
   "metadata": {},
   "outputs": [
    {
     "data": {
      "text/html": [
       "<div>\n",
       "<style scoped>\n",
       "    .dataframe tbody tr th:only-of-type {\n",
       "        vertical-align: middle;\n",
       "    }\n",
       "\n",
       "    .dataframe tbody tr th {\n",
       "        vertical-align: top;\n",
       "    }\n",
       "\n",
       "    .dataframe thead th {\n",
       "        text-align: right;\n",
       "    }\n",
       "</style>\n",
       "<table border=\"1\" class=\"dataframe\">\n",
       "  <thead>\n",
       "    <tr style=\"text-align: right;\">\n",
       "      <th></th>\n",
       "      <th>country</th>\n",
       "      <th>1800</th>\n",
       "      <th>1801</th>\n",
       "      <th>1802</th>\n",
       "      <th>1803</th>\n",
       "      <th>1804</th>\n",
       "      <th>1805</th>\n",
       "      <th>1806</th>\n",
       "      <th>1807</th>\n",
       "      <th>1808</th>\n",
       "      <th>...</th>\n",
       "      <th>2091</th>\n",
       "      <th>2092</th>\n",
       "      <th>2093</th>\n",
       "      <th>2094</th>\n",
       "      <th>2095</th>\n",
       "      <th>2096</th>\n",
       "      <th>2097</th>\n",
       "      <th>2098</th>\n",
       "      <th>2099</th>\n",
       "      <th>2100</th>\n",
       "    </tr>\n",
       "  </thead>\n",
       "  <tbody>\n",
       "    <tr>\n",
       "      <th>0</th>\n",
       "      <td>Afghanistan</td>\n",
       "      <td>28.2</td>\n",
       "      <td>28.2</td>\n",
       "      <td>28.2</td>\n",
       "      <td>28.2</td>\n",
       "      <td>28.2</td>\n",
       "      <td>28.2</td>\n",
       "      <td>28.1</td>\n",
       "      <td>28.1</td>\n",
       "      <td>28.1</td>\n",
       "      <td>...</td>\n",
       "      <td>75.5</td>\n",
       "      <td>75.7</td>\n",
       "      <td>75.8</td>\n",
       "      <td>76.0</td>\n",
       "      <td>76.1</td>\n",
       "      <td>76.2</td>\n",
       "      <td>76.4</td>\n",
       "      <td>76.5</td>\n",
       "      <td>76.6</td>\n",
       "      <td>76.8</td>\n",
       "    </tr>\n",
       "    <tr>\n",
       "      <th>1</th>\n",
       "      <td>Angola</td>\n",
       "      <td>27.0</td>\n",
       "      <td>27.0</td>\n",
       "      <td>27.0</td>\n",
       "      <td>27.0</td>\n",
       "      <td>27.0</td>\n",
       "      <td>27.0</td>\n",
       "      <td>27.0</td>\n",
       "      <td>27.0</td>\n",
       "      <td>27.0</td>\n",
       "      <td>...</td>\n",
       "      <td>78.8</td>\n",
       "      <td>79.0</td>\n",
       "      <td>79.1</td>\n",
       "      <td>79.2</td>\n",
       "      <td>79.3</td>\n",
       "      <td>79.5</td>\n",
       "      <td>79.6</td>\n",
       "      <td>79.7</td>\n",
       "      <td>79.9</td>\n",
       "      <td>80.0</td>\n",
       "    </tr>\n",
       "    <tr>\n",
       "      <th>2</th>\n",
       "      <td>Albania</td>\n",
       "      <td>35.4</td>\n",
       "      <td>35.4</td>\n",
       "      <td>35.4</td>\n",
       "      <td>35.4</td>\n",
       "      <td>35.4</td>\n",
       "      <td>35.4</td>\n",
       "      <td>35.4</td>\n",
       "      <td>35.4</td>\n",
       "      <td>35.4</td>\n",
       "      <td>...</td>\n",
       "      <td>87.4</td>\n",
       "      <td>87.5</td>\n",
       "      <td>87.6</td>\n",
       "      <td>87.7</td>\n",
       "      <td>87.8</td>\n",
       "      <td>87.9</td>\n",
       "      <td>88.0</td>\n",
       "      <td>88.2</td>\n",
       "      <td>88.3</td>\n",
       "      <td>88.4</td>\n",
       "    </tr>\n",
       "    <tr>\n",
       "      <th>3</th>\n",
       "      <td>Andorra</td>\n",
       "      <td>NaN</td>\n",
       "      <td>NaN</td>\n",
       "      <td>NaN</td>\n",
       "      <td>NaN</td>\n",
       "      <td>NaN</td>\n",
       "      <td>NaN</td>\n",
       "      <td>NaN</td>\n",
       "      <td>NaN</td>\n",
       "      <td>NaN</td>\n",
       "      <td>...</td>\n",
       "      <td>NaN</td>\n",
       "      <td>NaN</td>\n",
       "      <td>NaN</td>\n",
       "      <td>NaN</td>\n",
       "      <td>NaN</td>\n",
       "      <td>NaN</td>\n",
       "      <td>NaN</td>\n",
       "      <td>NaN</td>\n",
       "      <td>NaN</td>\n",
       "      <td>NaN</td>\n",
       "    </tr>\n",
       "    <tr>\n",
       "      <th>4</th>\n",
       "      <td>United Arab Emirates</td>\n",
       "      <td>30.7</td>\n",
       "      <td>30.7</td>\n",
       "      <td>30.7</td>\n",
       "      <td>30.7</td>\n",
       "      <td>30.7</td>\n",
       "      <td>30.7</td>\n",
       "      <td>30.7</td>\n",
       "      <td>30.7</td>\n",
       "      <td>30.7</td>\n",
       "      <td>...</td>\n",
       "      <td>82.4</td>\n",
       "      <td>82.5</td>\n",
       "      <td>82.6</td>\n",
       "      <td>82.7</td>\n",
       "      <td>82.8</td>\n",
       "      <td>82.9</td>\n",
       "      <td>83.0</td>\n",
       "      <td>83.1</td>\n",
       "      <td>83.2</td>\n",
       "      <td>83.3</td>\n",
       "    </tr>\n",
       "  </tbody>\n",
       "</table>\n",
       "<p>5 rows × 302 columns</p>\n",
       "</div>"
      ],
      "text/plain": [
       "                country  1800  1801  1802  1803  1804  1805  1806  1807  1808  \\\n",
       "0           Afghanistan  28.2  28.2  28.2  28.2  28.2  28.2  28.1  28.1  28.1   \n",
       "1                Angola  27.0  27.0  27.0  27.0  27.0  27.0  27.0  27.0  27.0   \n",
       "2               Albania  35.4  35.4  35.4  35.4  35.4  35.4  35.4  35.4  35.4   \n",
       "3               Andorra   NaN   NaN   NaN   NaN   NaN   NaN   NaN   NaN   NaN   \n",
       "4  United Arab Emirates  30.7  30.7  30.7  30.7  30.7  30.7  30.7  30.7  30.7   \n",
       "\n",
       "   ...  2091  2092  2093  2094  2095  2096  2097  2098  2099  2100  \n",
       "0  ...  75.5  75.7  75.8  76.0  76.1  76.2  76.4  76.5  76.6  76.8  \n",
       "1  ...  78.8  79.0  79.1  79.2  79.3  79.5  79.6  79.7  79.9  80.0  \n",
       "2  ...  87.4  87.5  87.6  87.7  87.8  87.9  88.0  88.2  88.3  88.4  \n",
       "3  ...   NaN   NaN   NaN   NaN   NaN   NaN   NaN   NaN   NaN   NaN  \n",
       "4  ...  82.4  82.5  82.6  82.7  82.8  82.9  83.0  83.1  83.2  83.3  \n",
       "\n",
       "[5 rows x 302 columns]"
      ]
     },
     "execution_count": 4,
     "metadata": {},
     "output_type": "execute_result"
    }
   ],
   "source": [
    "df_life.head()"
   ]
  },
  {
   "cell_type": "code",
   "execution_count": 5,
   "id": "17a1fee9",
   "metadata": {},
   "outputs": [
    {
     "name": "stdout",
     "output_type": "stream",
     "text": [
      "<class 'pandas.core.frame.DataFrame'>\n",
      "RangeIndex: 195 entries, 0 to 194\n",
      "Columns: 302 entries, country to 2100\n",
      "dtypes: float64(301), object(1)\n",
      "memory usage: 459.4+ KB\n"
     ]
    }
   ],
   "source": [
    "df_life.info()"
   ]
  },
  {
   "cell_type": "code",
   "execution_count": 6,
   "id": "5b74a41d",
   "metadata": {},
   "outputs": [
    {
     "data": {
      "text/html": [
       "<div>\n",
       "<style scoped>\n",
       "    .dataframe tbody tr th:only-of-type {\n",
       "        vertical-align: middle;\n",
       "    }\n",
       "\n",
       "    .dataframe tbody tr th {\n",
       "        vertical-align: top;\n",
       "    }\n",
       "\n",
       "    .dataframe thead th {\n",
       "        text-align: right;\n",
       "    }\n",
       "</style>\n",
       "<table border=\"1\" class=\"dataframe\">\n",
       "  <thead>\n",
       "    <tr style=\"text-align: right;\">\n",
       "      <th></th>\n",
       "      <th>country</th>\n",
       "      <th>1990</th>\n",
       "      <th>1991</th>\n",
       "      <th>1992</th>\n",
       "      <th>1993</th>\n",
       "      <th>1994</th>\n",
       "      <th>1995</th>\n",
       "      <th>1996</th>\n",
       "      <th>1997</th>\n",
       "      <th>1998</th>\n",
       "      <th>...</th>\n",
       "      <th>2011</th>\n",
       "      <th>2012</th>\n",
       "      <th>2013</th>\n",
       "      <th>2014</th>\n",
       "      <th>2015</th>\n",
       "      <th>2016</th>\n",
       "      <th>2017</th>\n",
       "      <th>2018</th>\n",
       "      <th>2019</th>\n",
       "      <th>2020</th>\n",
       "    </tr>\n",
       "  </thead>\n",
       "  <tbody>\n",
       "    <tr>\n",
       "      <th>0</th>\n",
       "      <td>Angola</td>\n",
       "      <td>NaN</td>\n",
       "      <td>NaN</td>\n",
       "      <td>NaN</td>\n",
       "      <td>NaN</td>\n",
       "      <td>NaN</td>\n",
       "      <td>NaN</td>\n",
       "      <td>NaN</td>\n",
       "      <td>NaN</td>\n",
       "      <td>NaN</td>\n",
       "      <td>...</td>\n",
       "      <td>1.56</td>\n",
       "      <td>NaN</td>\n",
       "      <td>NaN</td>\n",
       "      <td>NaN</td>\n",
       "      <td>NaN</td>\n",
       "      <td>NaN</td>\n",
       "      <td>NaN</td>\n",
       "      <td>NaN</td>\n",
       "      <td>NaN</td>\n",
       "      <td>NaN</td>\n",
       "    </tr>\n",
       "    <tr>\n",
       "      <th>1</th>\n",
       "      <td>Albania</td>\n",
       "      <td>NaN</td>\n",
       "      <td>NaN</td>\n",
       "      <td>NaN</td>\n",
       "      <td>NaN</td>\n",
       "      <td>NaN</td>\n",
       "      <td>NaN</td>\n",
       "      <td>NaN</td>\n",
       "      <td>NaN</td>\n",
       "      <td>NaN</td>\n",
       "      <td>...</td>\n",
       "      <td>5.28</td>\n",
       "      <td>5.310</td>\n",
       "      <td>5.560</td>\n",
       "      <td>6.020</td>\n",
       "      <td>6.23</td>\n",
       "      <td>5.92</td>\n",
       "      <td>5.22</td>\n",
       "      <td>4.74</td>\n",
       "      <td>4.25</td>\n",
       "      <td>NaN</td>\n",
       "    </tr>\n",
       "    <tr>\n",
       "      <th>2</th>\n",
       "      <td>United Arab Emirates</td>\n",
       "      <td>NaN</td>\n",
       "      <td>NaN</td>\n",
       "      <td>NaN</td>\n",
       "      <td>NaN</td>\n",
       "      <td>NaN</td>\n",
       "      <td>NaN</td>\n",
       "      <td>NaN</td>\n",
       "      <td>NaN</td>\n",
       "      <td>NaN</td>\n",
       "      <td>...</td>\n",
       "      <td>NaN</td>\n",
       "      <td>NaN</td>\n",
       "      <td>NaN</td>\n",
       "      <td>NaN</td>\n",
       "      <td>NaN</td>\n",
       "      <td>NaN</td>\n",
       "      <td>1.07</td>\n",
       "      <td>NaN</td>\n",
       "      <td>1.04</td>\n",
       "      <td>NaN</td>\n",
       "    </tr>\n",
       "    <tr>\n",
       "      <th>3</th>\n",
       "      <td>Argentina</td>\n",
       "      <td>NaN</td>\n",
       "      <td>NaN</td>\n",
       "      <td>NaN</td>\n",
       "      <td>NaN</td>\n",
       "      <td>NaN</td>\n",
       "      <td>NaN</td>\n",
       "      <td>NaN</td>\n",
       "      <td>NaN</td>\n",
       "      <td>NaN</td>\n",
       "      <td>...</td>\n",
       "      <td>0.79</td>\n",
       "      <td>0.818</td>\n",
       "      <td>0.805</td>\n",
       "      <td>0.863</td>\n",
       "      <td>NaN</td>\n",
       "      <td>NaN</td>\n",
       "      <td>1.15</td>\n",
       "      <td>1.29</td>\n",
       "      <td>1.44</td>\n",
       "      <td>1.38</td>\n",
       "    </tr>\n",
       "    <tr>\n",
       "      <th>4</th>\n",
       "      <td>Armenia</td>\n",
       "      <td>NaN</td>\n",
       "      <td>NaN</td>\n",
       "      <td>NaN</td>\n",
       "      <td>NaN</td>\n",
       "      <td>NaN</td>\n",
       "      <td>NaN</td>\n",
       "      <td>NaN</td>\n",
       "      <td>NaN</td>\n",
       "      <td>NaN</td>\n",
       "      <td>...</td>\n",
       "      <td>NaN</td>\n",
       "      <td>5.790</td>\n",
       "      <td>7.750</td>\n",
       "      <td>7.130</td>\n",
       "      <td>7.09</td>\n",
       "      <td>5.38</td>\n",
       "      <td>5.08</td>\n",
       "      <td>5.47</td>\n",
       "      <td>5.29</td>\n",
       "      <td>NaN</td>\n",
       "    </tr>\n",
       "  </tbody>\n",
       "</table>\n",
       "<p>5 rows × 32 columns</p>\n",
       "</div>"
      ],
      "text/plain": [
       "                country  1990  1991  1992  1993  1994  1995  1996  1997  1998  \\\n",
       "0                Angola   NaN   NaN   NaN   NaN   NaN   NaN   NaN   NaN   NaN   \n",
       "1               Albania   NaN   NaN   NaN   NaN   NaN   NaN   NaN   NaN   NaN   \n",
       "2  United Arab Emirates   NaN   NaN   NaN   NaN   NaN   NaN   NaN   NaN   NaN   \n",
       "3             Argentina   NaN   NaN   NaN   NaN   NaN   NaN   NaN   NaN   NaN   \n",
       "4               Armenia   NaN   NaN   NaN   NaN   NaN   NaN   NaN   NaN   NaN   \n",
       "\n",
       "   ...  2011   2012   2013   2014  2015  2016  2017  2018  2019  2020  \n",
       "0  ...  1.56    NaN    NaN    NaN   NaN   NaN   NaN   NaN   NaN   NaN  \n",
       "1  ...  5.28  5.310  5.560  6.020  6.23  5.92  5.22  4.74  4.25   NaN  \n",
       "2  ...   NaN    NaN    NaN    NaN   NaN   NaN  1.07   NaN  1.04   NaN  \n",
       "3  ...  0.79  0.818  0.805  0.863   NaN   NaN  1.15  1.29  1.44  1.38  \n",
       "4  ...   NaN  5.790  7.750  7.130  7.09  5.38  5.08  5.47  5.29   NaN  \n",
       "\n",
       "[5 rows x 32 columns]"
      ]
     },
     "execution_count": 6,
     "metadata": {},
     "output_type": "execute_result"
    }
   ],
   "source": [
    "df_unemployment.head()"
   ]
  },
  {
   "cell_type": "code",
   "execution_count": 7,
   "id": "af779fe5",
   "metadata": {},
   "outputs": [
    {
     "name": "stdout",
     "output_type": "stream",
     "text": [
      "<class 'pandas.core.frame.DataFrame'>\n",
      "RangeIndex: 141 entries, 0 to 140\n",
      "Data columns (total 32 columns):\n",
      " #   Column   Non-Null Count  Dtype  \n",
      "---  ------   --------------  -----  \n",
      " 0   country  141 non-null    object \n",
      " 1   1990     10 non-null     float64\n",
      " 2   1991     14 non-null     float64\n",
      " 3   1992     27 non-null     float64\n",
      " 4   1993     29 non-null     float64\n",
      " 5   1994     30 non-null     float64\n",
      " 6   1995     33 non-null     float64\n",
      " 7   1996     37 non-null     float64\n",
      " 8   1997     37 non-null     float64\n",
      " 9   1998     39 non-null     float64\n",
      " 10  1999     41 non-null     float64\n",
      " 11  2000     45 non-null     float64\n",
      " 12  2001     51 non-null     float64\n",
      " 13  2002     51 non-null     float64\n",
      " 14  2003     53 non-null     float64\n",
      " 15  2004     54 non-null     float64\n",
      " 16  2005     58 non-null     float64\n",
      " 17  2006     67 non-null     float64\n",
      " 18  2007     62 non-null     float64\n",
      " 19  2008     68 non-null     float64\n",
      " 20  2009     84 non-null     float64\n",
      " 21  2010     83 non-null     float64\n",
      " 22  2011     84 non-null     float64\n",
      " 23  2012     88 non-null     float64\n",
      " 24  2013     88 non-null     float64\n",
      " 25  2014     88 non-null     float64\n",
      " 26  2015     86 non-null     float64\n",
      " 27  2016     87 non-null     float64\n",
      " 28  2017     97 non-null     float64\n",
      " 29  2018     91 non-null     float64\n",
      " 30  2019     88 non-null     float64\n",
      " 31  2020     69 non-null     float64\n",
      "dtypes: float64(31), object(1)\n",
      "memory usage: 34.8+ KB\n"
     ]
    }
   ],
   "source": [
    "df_unemployment.info()"
   ]
  },
  {
   "cell_type": "code",
   "execution_count": 7,
   "id": "39b81fa0",
   "metadata": {},
   "outputs": [
    {
     "data": {
      "text/html": [
       "<div>\n",
       "<style scoped>\n",
       "    .dataframe tbody tr th:only-of-type {\n",
       "        vertical-align: middle;\n",
       "    }\n",
       "\n",
       "    .dataframe tbody tr th {\n",
       "        vertical-align: top;\n",
       "    }\n",
       "\n",
       "    .dataframe thead th {\n",
       "        text-align: right;\n",
       "    }\n",
       "</style>\n",
       "<table border=\"1\" class=\"dataframe\">\n",
       "  <thead>\n",
       "    <tr style=\"text-align: right;\">\n",
       "      <th></th>\n",
       "      <th>country</th>\n",
       "      <th>2005</th>\n",
       "      <th>2006</th>\n",
       "      <th>2007</th>\n",
       "      <th>2008</th>\n",
       "      <th>2009</th>\n",
       "      <th>2010</th>\n",
       "      <th>2011</th>\n",
       "      <th>2012</th>\n",
       "      <th>2013</th>\n",
       "      <th>2014</th>\n",
       "      <th>2015</th>\n",
       "      <th>2016</th>\n",
       "      <th>2017</th>\n",
       "      <th>2018</th>\n",
       "      <th>2019</th>\n",
       "    </tr>\n",
       "  </thead>\n",
       "  <tbody>\n",
       "    <tr>\n",
       "      <th>0</th>\n",
       "      <td>Afghanistan</td>\n",
       "      <td>NaN</td>\n",
       "      <td>NaN</td>\n",
       "      <td>NaN</td>\n",
       "      <td>37.2</td>\n",
       "      <td>44.0</td>\n",
       "      <td>47.6</td>\n",
       "      <td>38.3</td>\n",
       "      <td>37.8</td>\n",
       "      <td>35.7</td>\n",
       "      <td>31.3</td>\n",
       "      <td>39.8</td>\n",
       "      <td>42.2</td>\n",
       "      <td>26.6</td>\n",
       "      <td>26.9</td>\n",
       "      <td>25.7</td>\n",
       "    </tr>\n",
       "    <tr>\n",
       "      <th>1</th>\n",
       "      <td>Angola</td>\n",
       "      <td>NaN</td>\n",
       "      <td>NaN</td>\n",
       "      <td>NaN</td>\n",
       "      <td>NaN</td>\n",
       "      <td>NaN</td>\n",
       "      <td>NaN</td>\n",
       "      <td>55.9</td>\n",
       "      <td>43.6</td>\n",
       "      <td>39.4</td>\n",
       "      <td>37.9</td>\n",
       "      <td>NaN</td>\n",
       "      <td>NaN</td>\n",
       "      <td>NaN</td>\n",
       "      <td>NaN</td>\n",
       "      <td>NaN</td>\n",
       "    </tr>\n",
       "    <tr>\n",
       "      <th>2</th>\n",
       "      <td>Albania</td>\n",
       "      <td>NaN</td>\n",
       "      <td>NaN</td>\n",
       "      <td>46.3</td>\n",
       "      <td>NaN</td>\n",
       "      <td>54.9</td>\n",
       "      <td>52.7</td>\n",
       "      <td>58.7</td>\n",
       "      <td>55.1</td>\n",
       "      <td>45.5</td>\n",
       "      <td>48.1</td>\n",
       "      <td>46.1</td>\n",
       "      <td>45.1</td>\n",
       "      <td>46.4</td>\n",
       "      <td>50.0</td>\n",
       "      <td>48.8</td>\n",
       "    </tr>\n",
       "    <tr>\n",
       "      <th>3</th>\n",
       "      <td>United Arab Emirates</td>\n",
       "      <td>NaN</td>\n",
       "      <td>67.3</td>\n",
       "      <td>NaN</td>\n",
       "      <td>NaN</td>\n",
       "      <td>68.7</td>\n",
       "      <td>71.0</td>\n",
       "      <td>71.2</td>\n",
       "      <td>72.2</td>\n",
       "      <td>66.2</td>\n",
       "      <td>65.4</td>\n",
       "      <td>65.7</td>\n",
       "      <td>68.3</td>\n",
       "      <td>70.4</td>\n",
       "      <td>66.0</td>\n",
       "      <td>67.9</td>\n",
       "    </tr>\n",
       "    <tr>\n",
       "      <th>4</th>\n",
       "      <td>Argentina</td>\n",
       "      <td>NaN</td>\n",
       "      <td>63.1</td>\n",
       "      <td>60.7</td>\n",
       "      <td>59.6</td>\n",
       "      <td>64.2</td>\n",
       "      <td>64.4</td>\n",
       "      <td>67.8</td>\n",
       "      <td>64.7</td>\n",
       "      <td>65.8</td>\n",
       "      <td>66.7</td>\n",
       "      <td>67.0</td>\n",
       "      <td>64.3</td>\n",
       "      <td>60.4</td>\n",
       "      <td>57.9</td>\n",
       "      <td>59.7</td>\n",
       "    </tr>\n",
       "  </tbody>\n",
       "</table>\n",
       "</div>"
      ],
      "text/plain": [
       "                country  2005  2006  2007  2008  2009  2010  2011  2012  2013  \\\n",
       "0           Afghanistan   NaN   NaN   NaN  37.2  44.0  47.6  38.3  37.8  35.7   \n",
       "1                Angola   NaN   NaN   NaN   NaN   NaN   NaN  55.9  43.6  39.4   \n",
       "2               Albania   NaN   NaN  46.3   NaN  54.9  52.7  58.7  55.1  45.5   \n",
       "3  United Arab Emirates   NaN  67.3   NaN   NaN  68.7  71.0  71.2  72.2  66.2   \n",
       "4             Argentina   NaN  63.1  60.7  59.6  64.2  64.4  67.8  64.7  65.8   \n",
       "\n",
       "   2014  2015  2016  2017  2018  2019  \n",
       "0  31.3  39.8  42.2  26.6  26.9  25.7  \n",
       "1  37.9   NaN   NaN   NaN   NaN   NaN  \n",
       "2  48.1  46.1  45.1  46.4  50.0  48.8  \n",
       "3  65.4  65.7  68.3  70.4  66.0  67.9  \n",
       "4  66.7  67.0  64.3  60.4  57.9  59.7  "
      ]
     },
     "execution_count": 7,
     "metadata": {},
     "output_type": "execute_result"
    }
   ],
   "source": [
    "df_happy.head()"
   ]
  },
  {
   "cell_type": "code",
   "execution_count": 8,
   "id": "3dc1be9f",
   "metadata": {},
   "outputs": [
    {
     "name": "stdout",
     "output_type": "stream",
     "text": [
      "<class 'pandas.core.frame.DataFrame'>\n",
      "RangeIndex: 163 entries, 0 to 162\n",
      "Data columns (total 16 columns):\n",
      " #   Column   Non-Null Count  Dtype  \n",
      "---  ------   --------------  -----  \n",
      " 0   country  163 non-null    object \n",
      " 1   2005     27 non-null     float64\n",
      " 2   2006     89 non-null     float64\n",
      " 3   2007     101 non-null    float64\n",
      " 4   2008     109 non-null    float64\n",
      " 5   2009     113 non-null    float64\n",
      " 6   2010     123 non-null    float64\n",
      " 7   2011     145 non-null    float64\n",
      " 8   2012     140 non-null    float64\n",
      " 9   2013     135 non-null    float64\n",
      " 10  2014     143 non-null    float64\n",
      " 11  2015     141 non-null    float64\n",
      " 12  2016     140 non-null    float64\n",
      " 13  2017     146 non-null    float64\n",
      " 14  2018     134 non-null    float64\n",
      " 15  2019     151 non-null    float64\n",
      "dtypes: float64(15), object(1)\n",
      "memory usage: 19.8+ KB\n"
     ]
    }
   ],
   "source": [
    "df_happy.info()"
   ]
  },
  {
   "cell_type": "code",
   "execution_count": 9,
   "id": "887a9e2e",
   "metadata": {},
   "outputs": [
    {
     "data": {
      "text/html": [
       "<div>\n",
       "<style scoped>\n",
       "    .dataframe tbody tr th:only-of-type {\n",
       "        vertical-align: middle;\n",
       "    }\n",
       "\n",
       "    .dataframe tbody tr th {\n",
       "        vertical-align: top;\n",
       "    }\n",
       "\n",
       "    .dataframe thead th {\n",
       "        text-align: right;\n",
       "    }\n",
       "</style>\n",
       "<table border=\"1\" class=\"dataframe\">\n",
       "  <thead>\n",
       "    <tr style=\"text-align: right;\">\n",
       "      <th></th>\n",
       "      <th>*-country</th>\n",
       "      <th>g77_and_oecd_countries</th>\n",
       "      <th>income_3groups</th>\n",
       "      <th>income_groups</th>\n",
       "      <th>is--country</th>\n",
       "      <th>iso3166_1_alpha2</th>\n",
       "      <th>iso3166_1_alpha3</th>\n",
       "      <th>iso3166_1_numeric</th>\n",
       "      <th>iso3166_2</th>\n",
       "      <th>landlocked</th>\n",
       "      <th>...</th>\n",
       "      <th>name</th>\n",
       "      <th>un_sdg_ldc</th>\n",
       "      <th>un_sdg_region</th>\n",
       "      <th>un_state</th>\n",
       "      <th>unhcr_region</th>\n",
       "      <th>unicef_region</th>\n",
       "      <th>unicode_region_subtag</th>\n",
       "      <th>west_and_rest</th>\n",
       "      <th>world_4region</th>\n",
       "      <th>world_6region</th>\n",
       "    </tr>\n",
       "  </thead>\n",
       "  <tbody>\n",
       "    <tr>\n",
       "      <th>0</th>\n",
       "      <td>abkh</td>\n",
       "      <td>others</td>\n",
       "      <td>NaN</td>\n",
       "      <td>NaN</td>\n",
       "      <td>True</td>\n",
       "      <td>NaN</td>\n",
       "      <td>NaN</td>\n",
       "      <td>NaN</td>\n",
       "      <td>NaN</td>\n",
       "      <td>NaN</td>\n",
       "      <td>...</td>\n",
       "      <td>Abkhazia</td>\n",
       "      <td>NaN</td>\n",
       "      <td>NaN</td>\n",
       "      <td>False</td>\n",
       "      <td>NaN</td>\n",
       "      <td>NaN</td>\n",
       "      <td>NaN</td>\n",
       "      <td>NaN</td>\n",
       "      <td>europe</td>\n",
       "      <td>europe_central_asia</td>\n",
       "    </tr>\n",
       "    <tr>\n",
       "      <th>1</th>\n",
       "      <td>abw</td>\n",
       "      <td>others</td>\n",
       "      <td>high_income</td>\n",
       "      <td>high_income</td>\n",
       "      <td>True</td>\n",
       "      <td>AW</td>\n",
       "      <td>ABW</td>\n",
       "      <td>533.0</td>\n",
       "      <td>NaN</td>\n",
       "      <td>coastline</td>\n",
       "      <td>...</td>\n",
       "      <td>Aruba</td>\n",
       "      <td>un_not_least_developed</td>\n",
       "      <td>un_latin_america_and_the_caribbean</td>\n",
       "      <td>False</td>\n",
       "      <td>unhcr_americas</td>\n",
       "      <td>NaN</td>\n",
       "      <td>AW</td>\n",
       "      <td>NaN</td>\n",
       "      <td>americas</td>\n",
       "      <td>america</td>\n",
       "    </tr>\n",
       "    <tr>\n",
       "      <th>2</th>\n",
       "      <td>afg</td>\n",
       "      <td>g77</td>\n",
       "      <td>low_income</td>\n",
       "      <td>low_income</td>\n",
       "      <td>True</td>\n",
       "      <td>AF</td>\n",
       "      <td>AFG</td>\n",
       "      <td>4.0</td>\n",
       "      <td>NaN</td>\n",
       "      <td>landlocked</td>\n",
       "      <td>...</td>\n",
       "      <td>Afghanistan</td>\n",
       "      <td>un_least_developed</td>\n",
       "      <td>un_central_and_southern_asia</td>\n",
       "      <td>True</td>\n",
       "      <td>unhcr_asia_pacific</td>\n",
       "      <td>sa</td>\n",
       "      <td>AF</td>\n",
       "      <td>rest</td>\n",
       "      <td>asia</td>\n",
       "      <td>south_asia</td>\n",
       "    </tr>\n",
       "    <tr>\n",
       "      <th>3</th>\n",
       "      <td>ago</td>\n",
       "      <td>g77</td>\n",
       "      <td>middle_income</td>\n",
       "      <td>lower_middle_income</td>\n",
       "      <td>True</td>\n",
       "      <td>AO</td>\n",
       "      <td>AGO</td>\n",
       "      <td>24.0</td>\n",
       "      <td>NaN</td>\n",
       "      <td>coastline</td>\n",
       "      <td>...</td>\n",
       "      <td>Angola</td>\n",
       "      <td>un_least_developed</td>\n",
       "      <td>un_sub_saharan_africa</td>\n",
       "      <td>True</td>\n",
       "      <td>unhcr_southern_africa</td>\n",
       "      <td>ssa</td>\n",
       "      <td>AO</td>\n",
       "      <td>rest</td>\n",
       "      <td>africa</td>\n",
       "      <td>sub_saharan_africa</td>\n",
       "    </tr>\n",
       "    <tr>\n",
       "      <th>4</th>\n",
       "      <td>aia</td>\n",
       "      <td>others</td>\n",
       "      <td>NaN</td>\n",
       "      <td>NaN</td>\n",
       "      <td>True</td>\n",
       "      <td>AI</td>\n",
       "      <td>AIA</td>\n",
       "      <td>660.0</td>\n",
       "      <td>NaN</td>\n",
       "      <td>coastline</td>\n",
       "      <td>...</td>\n",
       "      <td>Anguilla</td>\n",
       "      <td>un_not_least_developed</td>\n",
       "      <td>un_latin_america_and_the_caribbean</td>\n",
       "      <td>False</td>\n",
       "      <td>unhcr_americas</td>\n",
       "      <td>NaN</td>\n",
       "      <td>AI</td>\n",
       "      <td>NaN</td>\n",
       "      <td>americas</td>\n",
       "      <td>america</td>\n",
       "    </tr>\n",
       "  </tbody>\n",
       "</table>\n",
       "<p>5 rows × 23 columns</p>\n",
       "</div>"
      ],
      "text/plain": [
       "  *-country g77_and_oecd_countries income_3groups        income_groups  \\\n",
       "0      abkh                 others            NaN                  NaN   \n",
       "1       abw                 others    high_income          high_income   \n",
       "2       afg                    g77     low_income           low_income   \n",
       "3       ago                    g77  middle_income  lower_middle_income   \n",
       "4       aia                 others            NaN                  NaN   \n",
       "\n",
       "   is--country iso3166_1_alpha2 iso3166_1_alpha3  iso3166_1_numeric iso3166_2  \\\n",
       "0         True              NaN              NaN                NaN       NaN   \n",
       "1         True               AW              ABW              533.0       NaN   \n",
       "2         True               AF              AFG                4.0       NaN   \n",
       "3         True               AO              AGO               24.0       NaN   \n",
       "4         True               AI              AIA              660.0       NaN   \n",
       "\n",
       "   landlocked  ...         name              un_sdg_ldc  \\\n",
       "0         NaN  ...     Abkhazia                     NaN   \n",
       "1   coastline  ...        Aruba  un_not_least_developed   \n",
       "2  landlocked  ...  Afghanistan      un_least_developed   \n",
       "3   coastline  ...       Angola      un_least_developed   \n",
       "4   coastline  ...     Anguilla  un_not_least_developed   \n",
       "\n",
       "                        un_sdg_region un_state           unhcr_region  \\\n",
       "0                                 NaN    False                    NaN   \n",
       "1  un_latin_america_and_the_caribbean    False         unhcr_americas   \n",
       "2        un_central_and_southern_asia     True     unhcr_asia_pacific   \n",
       "3               un_sub_saharan_africa     True  unhcr_southern_africa   \n",
       "4  un_latin_america_and_the_caribbean    False         unhcr_americas   \n",
       "\n",
       "  unicef_region  unicode_region_subtag west_and_rest world_4region  \\\n",
       "0           NaN                    NaN           NaN        europe   \n",
       "1           NaN                     AW           NaN      americas   \n",
       "2            sa                     AF          rest          asia   \n",
       "3           ssa                     AO          rest        africa   \n",
       "4           NaN                     AI           NaN      americas   \n",
       "\n",
       "         world_6region  \n",
       "0  europe_central_asia  \n",
       "1              america  \n",
       "2           south_asia  \n",
       "3   sub_saharan_africa  \n",
       "4              america  \n",
       "\n",
       "[5 rows x 23 columns]"
      ]
     },
     "execution_count": 9,
     "metadata": {},
     "output_type": "execute_result"
    }
   ],
   "source": [
    "df_country.head()"
   ]
  },
  {
   "cell_type": "code",
   "execution_count": 10,
   "id": "8f432e08",
   "metadata": {},
   "outputs": [
    {
     "name": "stdout",
     "output_type": "stream",
     "text": [
      "<class 'pandas.core.frame.DataFrame'>\n",
      "RangeIndex: 273 entries, 0 to 272\n",
      "Data columns (total 23 columns):\n",
      " #   Column                  Non-Null Count  Dtype  \n",
      "---  ------                  --------------  -----  \n",
      " 0   *-country               273 non-null    object \n",
      " 1   g77_and_oecd_countries  259 non-null    object \n",
      " 2   income_3groups          218 non-null    object \n",
      " 3   income_groups           218 non-null    object \n",
      " 4   is--country             273 non-null    bool   \n",
      " 5   iso3166_1_alpha2        248 non-null    object \n",
      " 6   iso3166_1_alpha3        247 non-null    object \n",
      " 7   iso3166_1_numeric       247 non-null    float64\n",
      " 8   iso3166_2               1 non-null      object \n",
      " 9   landlocked              255 non-null    object \n",
      " 10  latitude                241 non-null    float64\n",
      " 11  longitude               241 non-null    float64\n",
      " 12  main_religion_2008      216 non-null    object \n",
      " 13  name                    273 non-null    object \n",
      " 14  un_sdg_ldc              249 non-null    object \n",
      " 15  un_sdg_region           248 non-null    object \n",
      " 16  un_state                273 non-null    bool   \n",
      " 17  unhcr_region            219 non-null    object \n",
      " 18  unicef_region           195 non-null    object \n",
      " 19  unicode_region_subtag   248 non-null    object \n",
      " 20  west_and_rest           195 non-null    object \n",
      " 21  world_4region           271 non-null    object \n",
      " 22  world_6region           260 non-null    object \n",
      "dtypes: bool(2), float64(3), object(18)\n",
      "memory usage: 26.2+ KB\n"
     ]
    }
   ],
   "source": [
    "df_country.info()"
   ]
  },
  {
   "cell_type": "code",
   "execution_count": 13,
   "id": "ad7b5f84",
   "metadata": {},
   "outputs": [
    {
     "data": {
      "text/html": [
       "<div>\n",
       "<style scoped>\n",
       "    .dataframe tbody tr th:only-of-type {\n",
       "        vertical-align: middle;\n",
       "    }\n",
       "\n",
       "    .dataframe tbody tr th {\n",
       "        vertical-align: top;\n",
       "    }\n",
       "\n",
       "    .dataframe thead th {\n",
       "        text-align: right;\n",
       "    }\n",
       "</style>\n",
       "<table border=\"1\" class=\"dataframe\">\n",
       "  <thead>\n",
       "    <tr style=\"text-align: right;\">\n",
       "      <th></th>\n",
       "      <th>country</th>\n",
       "      <th>1870</th>\n",
       "      <th>1871</th>\n",
       "      <th>1872</th>\n",
       "      <th>1873</th>\n",
       "      <th>1874</th>\n",
       "      <th>1875</th>\n",
       "      <th>1876</th>\n",
       "      <th>1877</th>\n",
       "      <th>1878</th>\n",
       "      <th>...</th>\n",
       "      <th>2008</th>\n",
       "      <th>2009</th>\n",
       "      <th>2010</th>\n",
       "      <th>2011</th>\n",
       "      <th>2012</th>\n",
       "      <th>2013</th>\n",
       "      <th>2014</th>\n",
       "      <th>2015</th>\n",
       "      <th>2016</th>\n",
       "      <th>2017</th>\n",
       "    </tr>\n",
       "  </thead>\n",
       "  <tbody>\n",
       "    <tr>\n",
       "      <th>0</th>\n",
       "      <td>Afghanistan</td>\n",
       "      <td>0.0667</td>\n",
       "      <td>NaN</td>\n",
       "      <td>NaN</td>\n",
       "      <td>NaN</td>\n",
       "      <td>NaN</td>\n",
       "      <td>0.0667</td>\n",
       "      <td>NaN</td>\n",
       "      <td>NaN</td>\n",
       "      <td>NaN</td>\n",
       "      <td>...</td>\n",
       "      <td>20.0</td>\n",
       "      <td>20.7</td>\n",
       "      <td>21.3</td>\n",
       "      <td>22.0</td>\n",
       "      <td>22.7</td>\n",
       "      <td>23.3</td>\n",
       "      <td>23.3</td>\n",
       "      <td>24.0</td>\n",
       "      <td>24.0</td>\n",
       "      <td>25.3</td>\n",
       "    </tr>\n",
       "    <tr>\n",
       "      <th>1</th>\n",
       "      <td>Angola</td>\n",
       "      <td>NaN</td>\n",
       "      <td>NaN</td>\n",
       "      <td>NaN</td>\n",
       "      <td>NaN</td>\n",
       "      <td>NaN</td>\n",
       "      <td>NaN</td>\n",
       "      <td>NaN</td>\n",
       "      <td>NaN</td>\n",
       "      <td>NaN</td>\n",
       "      <td>...</td>\n",
       "      <td>30.7</td>\n",
       "      <td>31.3</td>\n",
       "      <td>31.3</td>\n",
       "      <td>31.3</td>\n",
       "      <td>32.0</td>\n",
       "      <td>32.7</td>\n",
       "      <td>32.7</td>\n",
       "      <td>33.3</td>\n",
       "      <td>34.0</td>\n",
       "      <td>34.0</td>\n",
       "    </tr>\n",
       "    <tr>\n",
       "      <th>2</th>\n",
       "      <td>Albania</td>\n",
       "      <td>0.1330</td>\n",
       "      <td>NaN</td>\n",
       "      <td>NaN</td>\n",
       "      <td>NaN</td>\n",
       "      <td>NaN</td>\n",
       "      <td>0.1330</td>\n",
       "      <td>NaN</td>\n",
       "      <td>NaN</td>\n",
       "      <td>NaN</td>\n",
       "      <td>...</td>\n",
       "      <td>61.3</td>\n",
       "      <td>62.0</td>\n",
       "      <td>62.0</td>\n",
       "      <td>62.0</td>\n",
       "      <td>64.0</td>\n",
       "      <td>64.7</td>\n",
       "      <td>64.7</td>\n",
       "      <td>64.7</td>\n",
       "      <td>66.7</td>\n",
       "      <td>66.7</td>\n",
       "    </tr>\n",
       "    <tr>\n",
       "      <th>3</th>\n",
       "      <td>Andorra</td>\n",
       "      <td>NaN</td>\n",
       "      <td>NaN</td>\n",
       "      <td>NaN</td>\n",
       "      <td>NaN</td>\n",
       "      <td>NaN</td>\n",
       "      <td>NaN</td>\n",
       "      <td>NaN</td>\n",
       "      <td>NaN</td>\n",
       "      <td>NaN</td>\n",
       "      <td>...</td>\n",
       "      <td>67.3</td>\n",
       "      <td>67.3</td>\n",
       "      <td>67.3</td>\n",
       "      <td>68.0</td>\n",
       "      <td>68.0</td>\n",
       "      <td>68.0</td>\n",
       "      <td>68.0</td>\n",
       "      <td>68.0</td>\n",
       "      <td>68.0</td>\n",
       "      <td>68.0</td>\n",
       "    </tr>\n",
       "    <tr>\n",
       "      <th>4</th>\n",
       "      <td>United Arab Emirates</td>\n",
       "      <td>NaN</td>\n",
       "      <td>NaN</td>\n",
       "      <td>NaN</td>\n",
       "      <td>NaN</td>\n",
       "      <td>NaN</td>\n",
       "      <td>NaN</td>\n",
       "      <td>NaN</td>\n",
       "      <td>NaN</td>\n",
       "      <td>NaN</td>\n",
       "      <td>...</td>\n",
       "      <td>64.0</td>\n",
       "      <td>64.7</td>\n",
       "      <td>66.0</td>\n",
       "      <td>66.7</td>\n",
       "      <td>68.0</td>\n",
       "      <td>68.7</td>\n",
       "      <td>70.0</td>\n",
       "      <td>70.7</td>\n",
       "      <td>72.0</td>\n",
       "      <td>72.0</td>\n",
       "    </tr>\n",
       "  </tbody>\n",
       "</table>\n",
       "<p>5 rows × 149 columns</p>\n",
       "</div>"
      ],
      "text/plain": [
       "                country    1870  1871  1872  1873  1874    1875  1876  1877  \\\n",
       "0           Afghanistan  0.0667   NaN   NaN   NaN   NaN  0.0667   NaN   NaN   \n",
       "1                Angola     NaN   NaN   NaN   NaN   NaN     NaN   NaN   NaN   \n",
       "2               Albania  0.1330   NaN   NaN   NaN   NaN  0.1330   NaN   NaN   \n",
       "3               Andorra     NaN   NaN   NaN   NaN   NaN     NaN   NaN   NaN   \n",
       "4  United Arab Emirates     NaN   NaN   NaN   NaN   NaN     NaN   NaN   NaN   \n",
       "\n",
       "   1878  ...  2008  2009  2010  2011  2012  2013  2014  2015  2016  2017  \n",
       "0   NaN  ...  20.0  20.7  21.3  22.0  22.7  23.3  23.3  24.0  24.0  25.3  \n",
       "1   NaN  ...  30.7  31.3  31.3  31.3  32.0  32.7  32.7  33.3  34.0  34.0  \n",
       "2   NaN  ...  61.3  62.0  62.0  62.0  64.0  64.7  64.7  64.7  66.7  66.7  \n",
       "3   NaN  ...  67.3  67.3  67.3  68.0  68.0  68.0  68.0  68.0  68.0  68.0  \n",
       "4   NaN  ...  64.0  64.7  66.0  66.7  68.0  68.7  70.0  70.7  72.0  72.0  \n",
       "\n",
       "[5 rows x 149 columns]"
      ]
     },
     "execution_count": 13,
     "metadata": {},
     "output_type": "execute_result"
    }
   ],
   "source": [
    "df_edu.head()\n"
   ]
  },
  {
   "cell_type": "code",
   "execution_count": 14,
   "id": "5cdd6a91",
   "metadata": {},
   "outputs": [
    {
     "name": "stdout",
     "output_type": "stream",
     "text": [
      "<class 'pandas.core.frame.DataFrame'>\n",
      "RangeIndex: 189 entries, 0 to 188\n",
      "Columns: 149 entries, country to 2017\n",
      "dtypes: float64(148), object(1)\n",
      "memory usage: 219.3+ KB\n"
     ]
    }
   ],
   "source": [
    "df_edu.info()"
   ]
  },
  {
   "cell_type": "markdown",
   "id": "83b18d8d",
   "metadata": {},
   "source": [
    "### Data Cleaning\n",
    "\n",
    "Note that some explanations will follow the execution of the code."
   ]
  },
  {
   "cell_type": "markdown",
   "id": "22171ffe",
   "metadata": {},
   "source": [
    "**Life Expectancy**\n",
    "\n",
    "This ia measure of the average life expectancy in a population\n",
    "- Issues:\n",
    " 1. This data set spans from 1800 to 2100; which is too large. The only columns required are the columns containing the names of the countries and the data from 2017. \n",
    " 2. The column name 2017 may become problematic when attempting to merge required datasets\n",
    "- Cleaning solutions\n",
    " 1. Trim data set\n",
    " 2. Rename column header"
   ]
  },
  {
   "cell_type": "code",
   "execution_count": 4,
   "id": "895005ee",
   "metadata": {},
   "outputs": [
    {
     "data": {
      "text/html": [
       "<div>\n",
       "<style scoped>\n",
       "    .dataframe tbody tr th:only-of-type {\n",
       "        vertical-align: middle;\n",
       "    }\n",
       "\n",
       "    .dataframe tbody tr th {\n",
       "        vertical-align: top;\n",
       "    }\n",
       "\n",
       "    .dataframe thead th {\n",
       "        text-align: right;\n",
       "    }\n",
       "</style>\n",
       "<table border=\"1\" class=\"dataframe\">\n",
       "  <thead>\n",
       "    <tr style=\"text-align: right;\">\n",
       "      <th></th>\n",
       "      <th>country</th>\n",
       "      <th>2017</th>\n",
       "    </tr>\n",
       "  </thead>\n",
       "  <tbody>\n",
       "    <tr>\n",
       "      <th>0</th>\n",
       "      <td>Afghanistan</td>\n",
       "      <td>62.9</td>\n",
       "    </tr>\n",
       "    <tr>\n",
       "      <th>1</th>\n",
       "      <td>Angola</td>\n",
       "      <td>64.2</td>\n",
       "    </tr>\n",
       "    <tr>\n",
       "      <th>2</th>\n",
       "      <td>Albania</td>\n",
       "      <td>78.3</td>\n",
       "    </tr>\n",
       "    <tr>\n",
       "      <th>3</th>\n",
       "      <td>Andorra</td>\n",
       "      <td>82.1</td>\n",
       "    </tr>\n",
       "    <tr>\n",
       "      <th>4</th>\n",
       "      <td>United Arab Emirates</td>\n",
       "      <td>73.5</td>\n",
       "    </tr>\n",
       "  </tbody>\n",
       "</table>\n",
       "</div>"
      ],
      "text/plain": [
       "                country  2017\n",
       "0           Afghanistan  62.9\n",
       "1                Angola  64.2\n",
       "2               Albania  78.3\n",
       "3               Andorra  82.1\n",
       "4  United Arab Emirates  73.5"
      ]
     },
     "execution_count": 4,
     "metadata": {},
     "output_type": "execute_result"
    }
   ],
   "source": [
    "life_df=df_life.iloc[:,[0,218]]\n",
    "life_df.head()"
   ]
  },
  {
   "cell_type": "markdown",
   "id": "25c85c93",
   "metadata": {},
   "source": [
    "> Here, the `.iloc()` function was used to select only the required columns from the `df_life` dataframe. This function was used to define a new dataframe `life_df`\n",
    "which now only contains the columns \"country\" and \"2017\""
   ]
  },
  {
   "cell_type": "code",
   "execution_count": 5,
   "id": "bd397c82",
   "metadata": {},
   "outputs": [
    {
     "name": "stderr",
     "output_type": "stream",
     "text": [
      "C:\\Users\\HP\\anaconda3\\envs\\my_env\\lib\\site-packages\\pandas\\core\\frame.py:4218: SettingWithCopyWarning: \n",
      "A value is trying to be set on a copy of a slice from a DataFrame\n",
      "\n",
      "See the caveats in the documentation: http://pandas.pydata.org/pandas-docs/stable/user_guide/indexing.html#returning-a-view-versus-a-copy\n",
      "  return super().rename(**kwargs)\n"
     ]
    },
    {
     "data": {
      "text/html": [
       "<div>\n",
       "<style scoped>\n",
       "    .dataframe tbody tr th:only-of-type {\n",
       "        vertical-align: middle;\n",
       "    }\n",
       "\n",
       "    .dataframe tbody tr th {\n",
       "        vertical-align: top;\n",
       "    }\n",
       "\n",
       "    .dataframe thead th {\n",
       "        text-align: right;\n",
       "    }\n",
       "</style>\n",
       "<table border=\"1\" class=\"dataframe\">\n",
       "  <thead>\n",
       "    <tr style=\"text-align: right;\">\n",
       "      <th></th>\n",
       "      <th>country</th>\n",
       "      <th>Life_expectancy</th>\n",
       "    </tr>\n",
       "  </thead>\n",
       "  <tbody>\n",
       "    <tr>\n",
       "      <th>0</th>\n",
       "      <td>Afghanistan</td>\n",
       "      <td>62.9</td>\n",
       "    </tr>\n",
       "    <tr>\n",
       "      <th>1</th>\n",
       "      <td>Angola</td>\n",
       "      <td>64.2</td>\n",
       "    </tr>\n",
       "    <tr>\n",
       "      <th>2</th>\n",
       "      <td>Albania</td>\n",
       "      <td>78.3</td>\n",
       "    </tr>\n",
       "    <tr>\n",
       "      <th>3</th>\n",
       "      <td>Andorra</td>\n",
       "      <td>82.1</td>\n",
       "    </tr>\n",
       "    <tr>\n",
       "      <th>4</th>\n",
       "      <td>United Arab Emirates</td>\n",
       "      <td>73.5</td>\n",
       "    </tr>\n",
       "  </tbody>\n",
       "</table>\n",
       "</div>"
      ],
      "text/plain": [
       "                country  Life_expectancy\n",
       "0           Afghanistan             62.9\n",
       "1                Angola             64.2\n",
       "2               Albania             78.3\n",
       "3               Andorra             82.1\n",
       "4  United Arab Emirates             73.5"
      ]
     },
     "execution_count": 5,
     "metadata": {},
     "output_type": "execute_result"
    }
   ],
   "source": [
    "life_df.rename(columns={'2017':'Life_expectancy'},inplace=True)\n",
    "life_df.head()"
   ]
  },
  {
   "cell_type": "markdown",
   "id": "378ef07e",
   "metadata": {},
   "source": [
    "> In this cell the `.rename()` function was used to change the column name \"2017\" to \"Life_expectancy\""
   ]
  },
  {
   "cell_type": "markdown",
   "id": "69080c38",
   "metadata": {},
   "source": [
    "*These same functions are used to carry out similar operations on the* `df_unemployment`,`df_happy`,`df_country`& `df_edu` *datasets respectively*"
   ]
  },
  {
   "cell_type": "markdown",
   "id": "5837ac8f",
   "metadata": {},
   "source": [
    "**Unemployment Rate**\n",
    "\n",
    "\n",
    "This is a percentage representation of the long term unemployment in a country.\n",
    "- Issues:\n",
    " 1. This data set spans from 1990 to 2020; which is too large. The only columns required are the columns containing the names of the countries and the data from 2017. \n",
    " 2. The column name 2017 may become problematic when attempting to merge required datasets\n",
    " 3. Blank cells\n",
    "- Cleaning solutions\n",
    " 1. Trim data set\n",
    " 2. Rename column header\n",
    " 3. Fill blank cells with the mean"
   ]
  },
  {
   "cell_type": "code",
   "execution_count": 6,
   "id": "f2b3455b",
   "metadata": {},
   "outputs": [
    {
     "data": {
      "text/html": [
       "<div>\n",
       "<style scoped>\n",
       "    .dataframe tbody tr th:only-of-type {\n",
       "        vertical-align: middle;\n",
       "    }\n",
       "\n",
       "    .dataframe tbody tr th {\n",
       "        vertical-align: top;\n",
       "    }\n",
       "\n",
       "    .dataframe thead th {\n",
       "        text-align: right;\n",
       "    }\n",
       "</style>\n",
       "<table border=\"1\" class=\"dataframe\">\n",
       "  <thead>\n",
       "    <tr style=\"text-align: right;\">\n",
       "      <th></th>\n",
       "      <th>country</th>\n",
       "      <th>2017</th>\n",
       "    </tr>\n",
       "  </thead>\n",
       "  <tbody>\n",
       "    <tr>\n",
       "      <th>0</th>\n",
       "      <td>Angola</td>\n",
       "      <td>NaN</td>\n",
       "    </tr>\n",
       "    <tr>\n",
       "      <th>1</th>\n",
       "      <td>Albania</td>\n",
       "      <td>5.22</td>\n",
       "    </tr>\n",
       "    <tr>\n",
       "      <th>2</th>\n",
       "      <td>United Arab Emirates</td>\n",
       "      <td>1.07</td>\n",
       "    </tr>\n",
       "    <tr>\n",
       "      <th>3</th>\n",
       "      <td>Argentina</td>\n",
       "      <td>1.15</td>\n",
       "    </tr>\n",
       "    <tr>\n",
       "      <th>4</th>\n",
       "      <td>Armenia</td>\n",
       "      <td>5.08</td>\n",
       "    </tr>\n",
       "  </tbody>\n",
       "</table>\n",
       "</div>"
      ],
      "text/plain": [
       "                country  2017\n",
       "0                Angola   NaN\n",
       "1               Albania  5.22\n",
       "2  United Arab Emirates  1.07\n",
       "3             Argentina  1.15\n",
       "4               Armenia  5.08"
      ]
     },
     "execution_count": 6,
     "metadata": {},
     "output_type": "execute_result"
    }
   ],
   "source": [
    "unemployment_df=df_unemployment.iloc[:,[0,28]]\n",
    "unemployment_df.head()"
   ]
  },
  {
   "cell_type": "code",
   "execution_count": 7,
   "id": "184e5d9c",
   "metadata": {},
   "outputs": [
    {
     "data": {
      "text/html": [
       "<div>\n",
       "<style scoped>\n",
       "    .dataframe tbody tr th:only-of-type {\n",
       "        vertical-align: middle;\n",
       "    }\n",
       "\n",
       "    .dataframe tbody tr th {\n",
       "        vertical-align: top;\n",
       "    }\n",
       "\n",
       "    .dataframe thead th {\n",
       "        text-align: right;\n",
       "    }\n",
       "</style>\n",
       "<table border=\"1\" class=\"dataframe\">\n",
       "  <thead>\n",
       "    <tr style=\"text-align: right;\">\n",
       "      <th></th>\n",
       "      <th>country</th>\n",
       "      <th>Unemployment</th>\n",
       "    </tr>\n",
       "  </thead>\n",
       "  <tbody>\n",
       "    <tr>\n",
       "      <th>0</th>\n",
       "      <td>Angola</td>\n",
       "      <td>NaN</td>\n",
       "    </tr>\n",
       "    <tr>\n",
       "      <th>1</th>\n",
       "      <td>Albania</td>\n",
       "      <td>5.22</td>\n",
       "    </tr>\n",
       "    <tr>\n",
       "      <th>2</th>\n",
       "      <td>United Arab Emirates</td>\n",
       "      <td>1.07</td>\n",
       "    </tr>\n",
       "    <tr>\n",
       "      <th>3</th>\n",
       "      <td>Argentina</td>\n",
       "      <td>1.15</td>\n",
       "    </tr>\n",
       "    <tr>\n",
       "      <th>4</th>\n",
       "      <td>Armenia</td>\n",
       "      <td>5.08</td>\n",
       "    </tr>\n",
       "  </tbody>\n",
       "</table>\n",
       "</div>"
      ],
      "text/plain": [
       "                country  Unemployment\n",
       "0                Angola           NaN\n",
       "1               Albania          5.22\n",
       "2  United Arab Emirates          1.07\n",
       "3             Argentina          1.15\n",
       "4               Armenia          5.08"
      ]
     },
     "execution_count": 7,
     "metadata": {},
     "output_type": "execute_result"
    }
   ],
   "source": [
    "unemployment_df.rename(columns={'2017':'Unemployment'},inplace=True)\n",
    "unemployment_df.head()"
   ]
  },
  {
   "cell_type": "markdown",
   "id": "9dd79679",
   "metadata": {},
   "source": [
    "**Happiness Score**\n",
    "\n",
    "This is a representation of the average happiness of a population.\n",
    "- Issues:\n",
    "  1. This data set spans from 2005 to 2019; which is too large. The only columns required are the columns containing the names of the countries and the data from 2017.\n",
    "  2. The column name 2017 may become problematic when attempting to merge required datasets\n",
    "  3. Blank cells\n",
    "- Cleaning solutions\n",
    "  1. Trim data set\n",
    "  2. Rename column header\n",
    "  3. Fill blank cells with the mean"
   ]
  },
  {
   "cell_type": "code",
   "execution_count": 8,
   "id": "f8ae91c4",
   "metadata": {},
   "outputs": [],
   "source": [
    "happy_df =df_happy.iloc[:,[0,13]]"
   ]
  },
  {
   "cell_type": "code",
   "execution_count": 9,
   "id": "bef717f0",
   "metadata": {},
   "outputs": [
    {
     "data": {
      "text/html": [
       "<div>\n",
       "<style scoped>\n",
       "    .dataframe tbody tr th:only-of-type {\n",
       "        vertical-align: middle;\n",
       "    }\n",
       "\n",
       "    .dataframe tbody tr th {\n",
       "        vertical-align: top;\n",
       "    }\n",
       "\n",
       "    .dataframe thead th {\n",
       "        text-align: right;\n",
       "    }\n",
       "</style>\n",
       "<table border=\"1\" class=\"dataframe\">\n",
       "  <thead>\n",
       "    <tr style=\"text-align: right;\">\n",
       "      <th></th>\n",
       "      <th>country</th>\n",
       "      <th>Happiness_score</th>\n",
       "    </tr>\n",
       "  </thead>\n",
       "  <tbody>\n",
       "    <tr>\n",
       "      <th>0</th>\n",
       "      <td>Afghanistan</td>\n",
       "      <td>26.6</td>\n",
       "    </tr>\n",
       "    <tr>\n",
       "      <th>1</th>\n",
       "      <td>Angola</td>\n",
       "      <td>NaN</td>\n",
       "    </tr>\n",
       "    <tr>\n",
       "      <th>2</th>\n",
       "      <td>Albania</td>\n",
       "      <td>46.4</td>\n",
       "    </tr>\n",
       "    <tr>\n",
       "      <th>3</th>\n",
       "      <td>United Arab Emirates</td>\n",
       "      <td>70.4</td>\n",
       "    </tr>\n",
       "    <tr>\n",
       "      <th>4</th>\n",
       "      <td>Argentina</td>\n",
       "      <td>60.4</td>\n",
       "    </tr>\n",
       "  </tbody>\n",
       "</table>\n",
       "</div>"
      ],
      "text/plain": [
       "                country  Happiness_score\n",
       "0           Afghanistan             26.6\n",
       "1                Angola              NaN\n",
       "2               Albania             46.4\n",
       "3  United Arab Emirates             70.4\n",
       "4             Argentina             60.4"
      ]
     },
     "execution_count": 9,
     "metadata": {},
     "output_type": "execute_result"
    }
   ],
   "source": [
    "happy_df.rename(columns={'2017':'Happiness_score'},inplace=True)\n",
    "happy_df.head()"
   ]
  },
  {
   "cell_type": "markdown",
   "id": "78942cd3",
   "metadata": {},
   "source": [
    "**Countries**\n",
    "\n",
    "This contains data such as name, region, main religion etc of different countries .\n",
    "- Issues:\n",
    "  1. This data set contains many columns that are not essential to this analysis and so, must be removed. The only columns required are the columns containing the names of the countries and the world regions.\n",
    "  2. The column name world_4region can be improved on\n",
    "- Cleaning solutions\n",
    "  1. Trim data set\n",
    "  2. Rename column header\n"
   ]
  },
  {
   "cell_type": "code",
   "execution_count": 10,
   "id": "946b55c8",
   "metadata": {},
   "outputs": [
    {
     "data": {
      "text/html": [
       "<div>\n",
       "<style scoped>\n",
       "    .dataframe tbody tr th:only-of-type {\n",
       "        vertical-align: middle;\n",
       "    }\n",
       "\n",
       "    .dataframe tbody tr th {\n",
       "        vertical-align: top;\n",
       "    }\n",
       "\n",
       "    .dataframe thead th {\n",
       "        text-align: right;\n",
       "    }\n",
       "</style>\n",
       "<table border=\"1\" class=\"dataframe\">\n",
       "  <thead>\n",
       "    <tr style=\"text-align: right;\">\n",
       "      <th></th>\n",
       "      <th>name</th>\n",
       "      <th>world_4region</th>\n",
       "    </tr>\n",
       "  </thead>\n",
       "  <tbody>\n",
       "    <tr>\n",
       "      <th>0</th>\n",
       "      <td>Abkhazia</td>\n",
       "      <td>europe</td>\n",
       "    </tr>\n",
       "    <tr>\n",
       "      <th>1</th>\n",
       "      <td>Aruba</td>\n",
       "      <td>americas</td>\n",
       "    </tr>\n",
       "    <tr>\n",
       "      <th>2</th>\n",
       "      <td>Afghanistan</td>\n",
       "      <td>asia</td>\n",
       "    </tr>\n",
       "    <tr>\n",
       "      <th>3</th>\n",
       "      <td>Angola</td>\n",
       "      <td>africa</td>\n",
       "    </tr>\n",
       "    <tr>\n",
       "      <th>4</th>\n",
       "      <td>Anguilla</td>\n",
       "      <td>americas</td>\n",
       "    </tr>\n",
       "  </tbody>\n",
       "</table>\n",
       "</div>"
      ],
      "text/plain": [
       "          name world_4region\n",
       "0     Abkhazia        europe\n",
       "1        Aruba      americas\n",
       "2  Afghanistan          asia\n",
       "3       Angola        africa\n",
       "4     Anguilla      americas"
      ]
     },
     "execution_count": 10,
     "metadata": {},
     "output_type": "execute_result"
    }
   ],
   "source": [
    "country_df=df_country.iloc[:,[13,21]]\n",
    "country_df.head()"
   ]
  },
  {
   "cell_type": "code",
   "execution_count": 11,
   "id": "fae42d0c",
   "metadata": {},
   "outputs": [
    {
     "data": {
      "text/html": [
       "<div>\n",
       "<style scoped>\n",
       "    .dataframe tbody tr th:only-of-type {\n",
       "        vertical-align: middle;\n",
       "    }\n",
       "\n",
       "    .dataframe tbody tr th {\n",
       "        vertical-align: top;\n",
       "    }\n",
       "\n",
       "    .dataframe thead th {\n",
       "        text-align: right;\n",
       "    }\n",
       "</style>\n",
       "<table border=\"1\" class=\"dataframe\">\n",
       "  <thead>\n",
       "    <tr style=\"text-align: right;\">\n",
       "      <th></th>\n",
       "      <th>country</th>\n",
       "      <th>World region</th>\n",
       "    </tr>\n",
       "  </thead>\n",
       "  <tbody>\n",
       "    <tr>\n",
       "      <th>0</th>\n",
       "      <td>Abkhazia</td>\n",
       "      <td>europe</td>\n",
       "    </tr>\n",
       "    <tr>\n",
       "      <th>1</th>\n",
       "      <td>Aruba</td>\n",
       "      <td>americas</td>\n",
       "    </tr>\n",
       "    <tr>\n",
       "      <th>2</th>\n",
       "      <td>Afghanistan</td>\n",
       "      <td>asia</td>\n",
       "    </tr>\n",
       "    <tr>\n",
       "      <th>3</th>\n",
       "      <td>Angola</td>\n",
       "      <td>africa</td>\n",
       "    </tr>\n",
       "    <tr>\n",
       "      <th>4</th>\n",
       "      <td>Anguilla</td>\n",
       "      <td>americas</td>\n",
       "    </tr>\n",
       "  </tbody>\n",
       "</table>\n",
       "</div>"
      ],
      "text/plain": [
       "       country World region\n",
       "0     Abkhazia       europe\n",
       "1        Aruba     americas\n",
       "2  Afghanistan         asia\n",
       "3       Angola       africa\n",
       "4     Anguilla     americas"
      ]
     },
     "execution_count": 11,
     "metadata": {},
     "output_type": "execute_result"
    }
   ],
   "source": [
    "country_df.rename(columns={'name':'country','world_4region':'World region'},inplace=True)\n",
    "country_df.head()"
   ]
  },
  {
   "cell_type": "markdown",
   "id": "5038ee02",
   "metadata": {},
   "source": [
    "**Education**\n",
    "\n",
    "This is a representation of the average education of a population. It is measured using the [owid index](http://gapm.io/deducation_idx).\n",
    "- Issues:\n",
    "  1. This data set spans from 1870 to 2017; which is too large. The only columns required are the columns containing the names of the countries and the data from 2017.\n",
    "  2. The column name 2017 may become problematic when attempting to merge required datasets\n",
    "- Cleaning solutions\n",
    "  1. Trim data set\n",
    "  2. Rename column header\n"
   ]
  },
  {
   "cell_type": "code",
   "execution_count": 12,
   "id": "511a6117",
   "metadata": {},
   "outputs": [],
   "source": [
    "edu_df=df_edu.iloc[:,[0,148]]"
   ]
  },
  {
   "cell_type": "code",
   "execution_count": 13,
   "id": "bf65aea4",
   "metadata": {},
   "outputs": [
    {
     "data": {
      "text/html": [
       "<div>\n",
       "<style scoped>\n",
       "    .dataframe tbody tr th:only-of-type {\n",
       "        vertical-align: middle;\n",
       "    }\n",
       "\n",
       "    .dataframe tbody tr th {\n",
       "        vertical-align: top;\n",
       "    }\n",
       "\n",
       "    .dataframe thead th {\n",
       "        text-align: right;\n",
       "    }\n",
       "</style>\n",
       "<table border=\"1\" class=\"dataframe\">\n",
       "  <thead>\n",
       "    <tr style=\"text-align: right;\">\n",
       "      <th></th>\n",
       "      <th>country</th>\n",
       "      <th>Avg_education</th>\n",
       "    </tr>\n",
       "  </thead>\n",
       "  <tbody>\n",
       "    <tr>\n",
       "      <th>0</th>\n",
       "      <td>Afghanistan</td>\n",
       "      <td>25.3</td>\n",
       "    </tr>\n",
       "    <tr>\n",
       "      <th>1</th>\n",
       "      <td>Angola</td>\n",
       "      <td>34.0</td>\n",
       "    </tr>\n",
       "    <tr>\n",
       "      <th>2</th>\n",
       "      <td>Albania</td>\n",
       "      <td>66.7</td>\n",
       "    </tr>\n",
       "    <tr>\n",
       "      <th>3</th>\n",
       "      <td>Andorra</td>\n",
       "      <td>68.0</td>\n",
       "    </tr>\n",
       "    <tr>\n",
       "      <th>4</th>\n",
       "      <td>United Arab Emirates</td>\n",
       "      <td>72.0</td>\n",
       "    </tr>\n",
       "  </tbody>\n",
       "</table>\n",
       "</div>"
      ],
      "text/plain": [
       "                country  Avg_education\n",
       "0           Afghanistan           25.3\n",
       "1                Angola           34.0\n",
       "2               Albania           66.7\n",
       "3               Andorra           68.0\n",
       "4  United Arab Emirates           72.0"
      ]
     },
     "execution_count": 13,
     "metadata": {},
     "output_type": "execute_result"
    }
   ],
   "source": [
    "edu_df.rename(columns={'2017':'Avg_education'},inplace=True)\n",
    "edu_df.head()"
   ]
  },
  {
   "cell_type": "markdown",
   "id": "2d414c5b",
   "metadata": {},
   "source": [
    "**Merging Dataframes**\n",
    "\n",
    "It would be cumbersome to work with 5 individual data sets so merging them into a single dataframe would be the best option. To do this the `.merge()` function avalable in pandas is used because all 5 datasets have a column - \"country\" - in common. Using this function, the dataframes will be merged on the basis of that common column. "
   ]
  },
  {
   "cell_type": "code",
   "execution_count": 14,
   "id": "57593008",
   "metadata": {
    "scrolled": true
   },
   "outputs": [],
   "source": [
    "facts_df=pd.merge(pd.merge(life_df,unemployment_df,on='country'),pd.merge(happy_df,country_df,on='country'))"
   ]
  },
  {
   "cell_type": "markdown",
   "id": "5f74f54b",
   "metadata": {},
   "source": [
    "> The dataframes `life_df`,`unemployment_df`,`happy_df` & `country_df` were first merged into a dataframe defined as `facts_df`"
   ]
  },
  {
   "cell_type": "code",
   "execution_count": 29,
   "id": "0737e159",
   "metadata": {},
   "outputs": [],
   "source": [
    "factors_df=pd.merge(facts_df,edu_df, on ='country')"
   ]
  },
  {
   "cell_type": "markdown",
   "id": "13f0d703",
   "metadata": {},
   "source": [
    "> Due to the number of dataframes, they weren't all merged at once. Here, the `facts_df` dataframe is merged with the `edu_df` dataframe to give the all encompassing dataframe named `factors_df` to represent all the factors influencing the happiness of a country."
   ]
  },
  {
   "cell_type": "code",
   "execution_count": 16,
   "id": "905df3eb",
   "metadata": {},
   "outputs": [
    {
     "data": {
      "text/html": [
       "<div>\n",
       "<style scoped>\n",
       "    .dataframe tbody tr th:only-of-type {\n",
       "        vertical-align: middle;\n",
       "    }\n",
       "\n",
       "    .dataframe tbody tr th {\n",
       "        vertical-align: top;\n",
       "    }\n",
       "\n",
       "    .dataframe thead th {\n",
       "        text-align: right;\n",
       "    }\n",
       "</style>\n",
       "<table border=\"1\" class=\"dataframe\">\n",
       "  <thead>\n",
       "    <tr style=\"text-align: right;\">\n",
       "      <th></th>\n",
       "      <th>country</th>\n",
       "      <th>Life_expectancy</th>\n",
       "      <th>Unemployment</th>\n",
       "      <th>Happiness_score</th>\n",
       "      <th>World region</th>\n",
       "      <th>Avg_education</th>\n",
       "    </tr>\n",
       "  </thead>\n",
       "  <tbody>\n",
       "    <tr>\n",
       "      <th>0</th>\n",
       "      <td>Angola</td>\n",
       "      <td>64.2</td>\n",
       "      <td>NaN</td>\n",
       "      <td>NaN</td>\n",
       "      <td>africa</td>\n",
       "      <td>34.0</td>\n",
       "    </tr>\n",
       "    <tr>\n",
       "      <th>1</th>\n",
       "      <td>Albania</td>\n",
       "      <td>78.3</td>\n",
       "      <td>5.22</td>\n",
       "      <td>46.4</td>\n",
       "      <td>europe</td>\n",
       "      <td>66.7</td>\n",
       "    </tr>\n",
       "    <tr>\n",
       "      <th>2</th>\n",
       "      <td>United Arab Emirates</td>\n",
       "      <td>73.5</td>\n",
       "      <td>1.07</td>\n",
       "      <td>70.4</td>\n",
       "      <td>asia</td>\n",
       "      <td>72.0</td>\n",
       "    </tr>\n",
       "    <tr>\n",
       "      <th>3</th>\n",
       "      <td>Argentina</td>\n",
       "      <td>76.3</td>\n",
       "      <td>1.15</td>\n",
       "      <td>60.4</td>\n",
       "      <td>americas</td>\n",
       "      <td>66.0</td>\n",
       "    </tr>\n",
       "    <tr>\n",
       "      <th>4</th>\n",
       "      <td>Armenia</td>\n",
       "      <td>75.5</td>\n",
       "      <td>5.08</td>\n",
       "      <td>42.9</td>\n",
       "      <td>europe</td>\n",
       "      <td>78.0</td>\n",
       "    </tr>\n",
       "  </tbody>\n",
       "</table>\n",
       "</div>"
      ],
      "text/plain": [
       "                country  Life_expectancy  Unemployment  Happiness_score  \\\n",
       "0                Angola             64.2           NaN              NaN   \n",
       "1               Albania             78.3          5.22             46.4   \n",
       "2  United Arab Emirates             73.5          1.07             70.4   \n",
       "3             Argentina             76.3          1.15             60.4   \n",
       "4               Armenia             75.5          5.08             42.9   \n",
       "\n",
       "  World region  Avg_education  \n",
       "0       africa           34.0  \n",
       "1       europe           66.7  \n",
       "2         asia           72.0  \n",
       "3     americas           66.0  \n",
       "4       europe           78.0  "
      ]
     },
     "execution_count": 16,
     "metadata": {},
     "output_type": "execute_result"
    }
   ],
   "source": [
    "factors_df.head()"
   ]
  },
  {
   "cell_type": "markdown",
   "id": "eb91dfc4",
   "metadata": {},
   "source": [
    "> A preview of the new `factors_df` dataframe is displayed using the `.head()` function in pandas. "
   ]
  },
  {
   "cell_type": "code",
   "execution_count": 44,
   "id": "e4c27707",
   "metadata": {},
   "outputs": [],
   "source": [
    "def fill_cols(df,col_list):\n",
    "    \"\"\"\"fills blank cells in a column with the mean of respective columns\n",
    "    @param df: factors_df\n",
    "    @param col_list: A list of column names in the factors_df\n",
    "    @ return:None, fills in place\"\"\"\n",
    "    for col in col_list:\n",
    "        mean_ =df[col].mean()\n",
    "        df[col_list]=df[col_list].fillna(mean_)\n",
    "   "
   ]
  },
  {
   "cell_type": "code",
   "execution_count": 45,
   "id": "e7e9d7e5",
   "metadata": {},
   "outputs": [],
   "source": [
    "col_list= ['Unemployment', 'Happiness_score']"
   ]
  },
  {
   "cell_type": "code",
   "execution_count": 46,
   "id": "b9642421",
   "metadata": {},
   "outputs": [],
   "source": [
    "fill_cols(factors_df,col_list)"
   ]
  },
  {
   "cell_type": "code",
   "execution_count": 47,
   "id": "031566ad",
   "metadata": {},
   "outputs": [
    {
     "data": {
      "text/html": [
       "<div>\n",
       "<style scoped>\n",
       "    .dataframe tbody tr th:only-of-type {\n",
       "        vertical-align: middle;\n",
       "    }\n",
       "\n",
       "    .dataframe tbody tr th {\n",
       "        vertical-align: top;\n",
       "    }\n",
       "\n",
       "    .dataframe thead th {\n",
       "        text-align: right;\n",
       "    }\n",
       "</style>\n",
       "<table border=\"1\" class=\"dataframe\">\n",
       "  <thead>\n",
       "    <tr style=\"text-align: right;\">\n",
       "      <th></th>\n",
       "      <th>country</th>\n",
       "      <th>Life_expectancy</th>\n",
       "      <th>Unemployment</th>\n",
       "      <th>Happiness_score</th>\n",
       "      <th>World region</th>\n",
       "      <th>Avg_education</th>\n",
       "    </tr>\n",
       "  </thead>\n",
       "  <tbody>\n",
       "    <tr>\n",
       "      <th>0</th>\n",
       "      <td>Angola</td>\n",
       "      <td>64.2</td>\n",
       "      <td>1.805567</td>\n",
       "      <td>55.402479</td>\n",
       "      <td>africa</td>\n",
       "      <td>34.0</td>\n",
       "    </tr>\n",
       "    <tr>\n",
       "      <th>1</th>\n",
       "      <td>Albania</td>\n",
       "      <td>78.3</td>\n",
       "      <td>5.220000</td>\n",
       "      <td>46.400000</td>\n",
       "      <td>europe</td>\n",
       "      <td>66.7</td>\n",
       "    </tr>\n",
       "    <tr>\n",
       "      <th>2</th>\n",
       "      <td>United Arab Emirates</td>\n",
       "      <td>73.5</td>\n",
       "      <td>1.070000</td>\n",
       "      <td>70.400000</td>\n",
       "      <td>asia</td>\n",
       "      <td>72.0</td>\n",
       "    </tr>\n",
       "    <tr>\n",
       "      <th>3</th>\n",
       "      <td>Argentina</td>\n",
       "      <td>76.3</td>\n",
       "      <td>1.150000</td>\n",
       "      <td>60.400000</td>\n",
       "      <td>americas</td>\n",
       "      <td>66.0</td>\n",
       "    </tr>\n",
       "    <tr>\n",
       "      <th>4</th>\n",
       "      <td>Armenia</td>\n",
       "      <td>75.5</td>\n",
       "      <td>5.080000</td>\n",
       "      <td>42.900000</td>\n",
       "      <td>europe</td>\n",
       "      <td>78.0</td>\n",
       "    </tr>\n",
       "  </tbody>\n",
       "</table>\n",
       "</div>"
      ],
      "text/plain": [
       "                country  Life_expectancy  Unemployment  Happiness_score  \\\n",
       "0                Angola             64.2      1.805567        55.402479   \n",
       "1               Albania             78.3      5.220000        46.400000   \n",
       "2  United Arab Emirates             73.5      1.070000        70.400000   \n",
       "3             Argentina             76.3      1.150000        60.400000   \n",
       "4               Armenia             75.5      5.080000        42.900000   \n",
       "\n",
       "  World region  Avg_education  \n",
       "0       africa           34.0  \n",
       "1       europe           66.7  \n",
       "2         asia           72.0  \n",
       "3     americas           66.0  \n",
       "4       europe           78.0  "
      ]
     },
     "execution_count": 47,
     "metadata": {},
     "output_type": "execute_result"
    }
   ],
   "source": [
    "factors_df.head()"
   ]
  },
  {
   "cell_type": "markdown",
   "id": "f0574120",
   "metadata": {},
   "source": [
    "> The `.mean()` function was used to calculate the mean of the \"Unemployment\" and \"Happiness_Score\" columns. This function was defined with the name \"mean_1\" and \"mean_2\" then placed in the next line of code where the `.fillna()` function was used to fill in the mean value into the appropriate blank cells."
   ]
  },
  {
   "cell_type": "markdown",
   "id": "4a2cb9c7",
   "metadata": {},
   "source": [
    "## Data Exploration"
   ]
  },
  {
   "cell_type": "code",
   "execution_count": 26,
   "id": "48714617",
   "metadata": {},
   "outputs": [
    {
     "data": {
      "image/png": "[encoded data removed]",
      "text/plain": [
       "<Figure size 720x720 with 4 Axes>"
      ]
     },
     "metadata": {
      "needs_background": "light"
     },
     "output_type": "display_data"
    }
   ],
   "source": [
    "factors_df.hist(figsize=(10,10));"
   ]
  },
  {
   "cell_type": "markdown",
   "id": "264f6370",
   "metadata": {},
   "source": [
    "> Using the `.hist()` function in pandas, a graphical overview of the numerical data is presented. "
   ]
  },
  {
   "cell_type": "markdown",
   "id": "e66f644d",
   "metadata": {},
   "source": [
    "**Observations**\n",
    "\n",
    "The Life expectancy & average education graphs are skewed to the right and possibly will have a positive effect on the happiness score in a country. Conversely, the unemployment graph is skewed to the left and may have a negative effect on the happiness score of a population"
   ]
  },
  {
   "cell_type": "code",
   "execution_count": 27,
   "id": "e2dc6fab",
   "metadata": {},
   "outputs": [
    {
     "data": {
      "text/html": [
       "<div>\n",
       "<style scoped>\n",
       "    .dataframe tbody tr th:only-of-type {\n",
       "        vertical-align: middle;\n",
       "    }\n",
       "\n",
       "    .dataframe tbody tr th {\n",
       "        vertical-align: top;\n",
       "    }\n",
       "\n",
       "    .dataframe thead th {\n",
       "        text-align: right;\n",
       "    }\n",
       "</style>\n",
       "<table border=\"1\" class=\"dataframe\">\n",
       "  <thead>\n",
       "    <tr style=\"text-align: right;\">\n",
       "      <th></th>\n",
       "      <th>Life_expectancy</th>\n",
       "      <th>Unemployment</th>\n",
       "      <th>Happiness_score</th>\n",
       "      <th>Avg_education</th>\n",
       "    </tr>\n",
       "    <tr>\n",
       "      <th>World region</th>\n",
       "      <th></th>\n",
       "      <th></th>\n",
       "      <th></th>\n",
       "      <th></th>\n",
       "    </tr>\n",
       "  </thead>\n",
       "  <tbody>\n",
       "    <tr>\n",
       "      <th>africa</th>\n",
       "      <td>64.725714</td>\n",
       "      <td>1.963585</td>\n",
       "      <td>45.291712</td>\n",
       "      <td>36.488571</td>\n",
       "    </tr>\n",
       "    <tr>\n",
       "      <th>americas</th>\n",
       "      <td>76.040909</td>\n",
       "      <td>0.918870</td>\n",
       "      <td>60.932269</td>\n",
       "      <td>61.727273</td>\n",
       "    </tr>\n",
       "    <tr>\n",
       "      <th>asia</th>\n",
       "      <td>74.734375</td>\n",
       "      <td>1.304308</td>\n",
       "      <td>54.425310</td>\n",
       "      <td>58.477419</td>\n",
       "    </tr>\n",
       "    <tr>\n",
       "      <th>europe</th>\n",
       "      <td>78.720455</td>\n",
       "      <td>2.487773</td>\n",
       "      <td>61.390909</td>\n",
       "      <td>77.981818</td>\n",
       "    </tr>\n",
       "  </tbody>\n",
       "</table>\n",
       "</div>"
      ],
      "text/plain": [
       "              Life_expectancy  Unemployment  Happiness_score  Avg_education\n",
       "World region                                                               \n",
       "africa              64.725714      1.963585        45.291712      36.488571\n",
       "americas            76.040909      0.918870        60.932269      61.727273\n",
       "asia                74.734375      1.304308        54.425310      58.477419\n",
       "europe              78.720455      2.487773        61.390909      77.981818"
      ]
     },
     "execution_count": 27,
     "metadata": {},
     "output_type": "execute_result"
    }
   ],
   "source": [
    "factors_df.groupby(['World region']).mean()\n"
   ]
  },
  {
   "cell_type": "markdown",
   "id": "84091af6",
   "metadata": {},
   "source": [
    "> Using the `.groupby()` and `.mean()` functions in pandas, the mean values of the indicators in the dataset are displayed based on the region. These values are essential for the visual analysis that follows"
   ]
  },
  {
   "cell_type": "code",
   "execution_count": 28,
   "id": "6b2fbe85",
   "metadata": {},
   "outputs": [
    {
     "data": {
      "image/png": "[encoded data removed]",
      "text/plain": [
       "<Figure size 432x288 with 1 Axes>"
      ]
     },
     "metadata": {
      "needs_background": "light"
     },
     "output_type": "display_data"
    }
   ],
   "source": [
    "N = 4\n",
    "ind = np.arange(N)\n",
    "width = 0.25\n",
    "\n",
    "av_life = [64.7, 76, 74.7,78.7]\n",
    "bar1 = plt.bar(ind, av_life, width, color='seagreen')\n",
    "\n",
    "av_edu = [36.5, 61.7, 58.4,78.0]\n",
    "bar2 = plt.bar(ind+width, av_edu, width, color = 'lightcoral')\n",
    "\n",
    "plt.xlabel(\"World Regions\")\n",
    "plt.ylabel('Average')\n",
    "plt.title(\"Average life expectancy & education in different world regions\")\n",
    "\n",
    "plt.xticks(ind+width,['Africa', 'The Americas', 'Asia', 'Europe'])\n",
    "plt.legend( (bar1, bar2), ( 'Average life expectancy', 'Average Education') )\n",
    "plt.show()\n"
   ]
  },
  {
   "cell_type": "markdown",
   "id": "b59f1afa",
   "metadata": {},
   "source": [
    "> The `np.arange()` function in numpy is used to indicate that the bar chart that will be displayed will have 4 groups on the x-axis. 2 lists named \"av_life\" and \"av_edu\" are created to hold the values for the first and second bar in respectively.\n",
    "\n",
    "> Using the `plt.bar` function from `matplotlib.pyplot` a bar chart was created. The axis labels were inputed using the `plt.xlabel()` and `plt.ylabel()` functions, and the title was inputed using the `plt.title()` function.\n",
    "\n",
    "> The `plt.show()` function was used to display the bar chart which shows the average life expectancy and average education of the populations of the different world regions.\n",
    "\n",
    "**Observations**\n",
    "- Life expectancy is highest in the Americas and lowest in Africa. \n",
    "- Average eduaction is highest in Europe and lowest in Africa\n",
    "- Europe has near equal average values for life expectancy and education"
   ]
  },
  {
   "cell_type": "code",
   "execution_count": 29,
   "id": "d4735451",
   "metadata": {},
   "outputs": [
    {
     "data": {
      "image/png": "[encoded data removed]",
      "text/plain": [
       "<Figure size 432x288 with 1 Axes>"
      ]
     },
     "metadata": {
      "needs_background": "light"
     },
     "output_type": "display_data"
    }
   ],
   "source": [
    "plt.bar([1,2,3,4],[2.2,0.7,1.0,2.5], tick_label=['Africa','The Americas','Asia','Europe'])\n",
    "plt.xlabel('World Regions')\n",
    "plt.ylabel('Average')\n",
    "plt.title('Average unemployment rate in different world regions')\n",
    "plt.show()"
   ]
  },
  {
   "cell_type": "markdown",
   "id": "84cc7ff3",
   "metadata": {},
   "source": [
    " > Unlike the previous visual, there is only one indicator being assessed here -unemployment rate. Because of this the bars are all of the same color. The unemployment is plotted for the different world regions\n",
    " \n",
    " **Observations**\n",
    " - Europe has the highest unemplyment rate\n",
    " - The Americas have the lowest unemployment rate"
   ]
  },
  {
   "cell_type": "markdown",
   "id": "23934dd9",
   "metadata": {},
   "source": [
    "### 1. Do regions with higher unemployment rates have happier populations?"
   ]
  },
  {
   "cell_type": "code",
   "execution_count": 40,
   "id": "08c0813d",
   "metadata": {},
   "outputs": [
    {
     "data": {
      "text/plain": [
       "1.29"
      ]
     },
     "execution_count": 40,
     "metadata": {},
     "output_type": "execute_result"
    }
   ],
   "source": [
    "factors_df['Unemployment'].median()\n"
   ]
  },
  {
   "cell_type": "markdown",
   "id": "854c7296",
   "metadata": {},
   "source": [
    "> The high and low unemployment regions must first be classified before this question can be answered. In order to do this, the median is calculated using the `.median()` function. This determines the benchmark value for categorization."
   ]
  },
  {
   "cell_type": "code",
   "execution_count": 54,
   "id": "1200392a",
   "metadata": {},
   "outputs": [],
   "source": [
    "High_unemployment = factors_df.query('Unemployment >= 1.29')\n",
    "Low_unemployment = factors_df.query('Unemployment < 1.29')"
   ]
  },
  {
   "cell_type": "markdown",
   "id": "b71b84ea",
   "metadata": {},
   "source": [
    "> The classes are defined as \"High_unemployment\" and \"Low_unemployment\". The `df.query()` function is used to make the argument for both groups. High unemployment is defined as unemployment rates that are greater than or equal to the median value while the low unemployment is defined as unemployment rates that are lower than the median value."
   ]
  },
  {
   "cell_type": "markdown",
   "id": "f1707a7a",
   "metadata": {},
   "source": [
    "In the following cells the mean life expectancy, unemployment, happiness score and average education in high and low unemployment regions are calculated respectively."
   ]
  },
  {
   "cell_type": "code",
   "execution_count": 95,
   "id": "01df67bb",
   "metadata": {},
   "outputs": [
    {
     "name": "stderr",
     "output_type": "stream",
     "text": [
      "C:\\Users\\HP\\anaconda3\\envs\\my_env\\lib\\site-packages\\ipykernel_launcher.py:1: FutureWarning: Dropping of nuisance columns in DataFrame reductions (with 'numeric_only=None') is deprecated; in a future version this will raise TypeError.  Select only valid columns before calling the reduction.\n",
      "  \"\"\"Entry point for launching an IPython kernel.\n"
     ]
    },
    {
     "data": {
      "text/plain": [
       "Life_expectancy    76.356250\n",
       "Unemployment        2.917083\n",
       "Happiness_score    55.841304\n",
       "Avg_education      69.577083\n",
       "dtype: float64"
      ]
     },
     "execution_count": 95,
     "metadata": {},
     "output_type": "execute_result"
    }
   ],
   "source": [
    "High_unemployment.mean()"
   ]
  },
  {
   "cell_type": "code",
   "execution_count": 96,
   "id": "3a707d5b",
   "metadata": {},
   "outputs": [
    {
     "name": "stderr",
     "output_type": "stream",
     "text": [
      "C:\\Users\\HP\\anaconda3\\envs\\my_env\\lib\\site-packages\\ipykernel_launcher.py:1: FutureWarning: Dropping of nuisance columns in DataFrame reductions (with 'numeric_only=None') is deprecated; in a future version this will raise TypeError.  Select only valid columns before calling the reduction.\n",
      "  \"\"\"Entry point for launching an IPython kernel.\n"
     ]
    },
    {
     "data": {
      "text/plain": [
       "Life_expectancy    76.138298\n",
       "Unemployment        0.670402\n",
       "Happiness_score    60.386957\n",
       "Avg_education      64.871739\n",
       "dtype: float64"
      ]
     },
     "execution_count": 96,
     "metadata": {},
     "output_type": "execute_result"
    }
   ],
   "source": [
    "Low_unemployment.mean()"
   ]
  },
  {
   "cell_type": "markdown",
   "id": "ae65af9f",
   "metadata": {},
   "source": [
    "### 2. Are regions with better educated populations happier?"
   ]
  },
  {
   "cell_type": "code",
   "execution_count": 61,
   "id": "57974b9c",
   "metadata": {},
   "outputs": [
    {
     "data": {
      "text/plain": [
       "63.65"
      ]
     },
     "execution_count": 61,
     "metadata": {},
     "output_type": "execute_result"
    }
   ],
   "source": [
    "factors_df['Avg_education'].median()\n"
   ]
  },
  {
   "cell_type": "markdown",
   "id": "689d79ba",
   "metadata": {},
   "source": [
    "> The regions having populations with higher and lower owid indexes must first be classified before this question can be answered. In order to do this, the median is calculated using the `.median()` function."
   ]
  },
  {
   "cell_type": "code",
   "execution_count": 62,
   "id": "00b265e1",
   "metadata": {},
   "outputs": [],
   "source": [
    "High_avg_education = factors_df.query('Avg_education >= 63.65')\n",
    "Low_avg_education = factors_df.query('Avg_education < 63.65')"
   ]
  },
  {
   "cell_type": "markdown",
   "id": "a4b525a7",
   "metadata": {},
   "source": [
    "> The classes are defined as \"High_avg_education\" and \"Low_avg_education\". The `df.query()` function is used to make the argument for both groups. High average education is defined as education averages that are greater than or equal to the median value while the low average education is defined as education averages that are lower than the median value."
   ]
  },
  {
   "cell_type": "code",
   "execution_count": 97,
   "id": "84f833d2",
   "metadata": {},
   "outputs": [
    {
     "name": "stderr",
     "output_type": "stream",
     "text": [
      "C:\\Users\\HP\\anaconda3\\envs\\my_env\\lib\\site-packages\\ipykernel_launcher.py:1: FutureWarning: Dropping of nuisance columns in DataFrame reductions (with 'numeric_only=None') is deprecated; in a future version this will raise TypeError.  Select only valid columns before calling the reduction.\n",
      "  \"\"\"Entry point for launching an IPython kernel.\n"
     ]
    },
    {
     "data": {
      "text/plain": [
       "Life_expectancy    77.998485\n",
       "Unemployment        2.165047\n",
       "Happiness_score    61.043548\n",
       "Avg_education      77.331818\n",
       "dtype: float64"
      ]
     },
     "execution_count": 97,
     "metadata": {},
     "output_type": "execute_result"
    }
   ],
   "source": [
    "High_avg_education.mean()"
   ]
  },
  {
   "cell_type": "code",
   "execution_count": 64,
   "id": "ed462f6f",
   "metadata": {},
   "outputs": [
    {
     "name": "stderr",
     "output_type": "stream",
     "text": [
      "C:\\Users\\HP\\anaconda3\\envs\\my_env\\lib\\site-packages\\ipykernel_launcher.py:1: FutureWarning: Dropping of nuisance columns in DataFrame reductions (with 'numeric_only=None') is deprecated; in a future version this will raise TypeError.  Select only valid columns before calling the reduction.\n",
      "  \"\"\"Entry point for launching an IPython kernel.\n"
     ]
    },
    {
     "data": {
      "text/plain": [
       "Life_expectancy    69.131818\n",
       "Unemployment        1.159563\n",
       "Happiness_score    49.315517\n",
       "Avg_education      42.048485\n",
       "dtype: float64"
      ]
     },
     "execution_count": 64,
     "metadata": {},
     "output_type": "execute_result"
    }
   ],
   "source": [
    "Low_avg_education.mean()"
   ]
  },
  {
   "cell_type": "markdown",
   "id": "83511fbc",
   "metadata": {},
   "source": [
    "### 3. Do happier populations have higher life expectancies?"
   ]
  },
  {
   "cell_type": "code",
   "execution_count": 70,
   "id": "76da0b00",
   "metadata": {},
   "outputs": [
    {
     "data": {
      "text/plain": [
       "55.9"
      ]
     },
     "execution_count": 70,
     "metadata": {},
     "output_type": "execute_result"
    }
   ],
   "source": [
    "factors_df['Happiness_score'].median()"
   ]
  },
  {
   "cell_type": "markdown",
   "id": "3b64f3fa",
   "metadata": {},
   "source": [
    "> The regions having populations with higher and lower happiness ratings must first be classified before this question can be answered. The median is calculated using the `.median()` function for this purpose."
   ]
  },
  {
   "cell_type": "code",
   "execution_count": 74,
   "id": "fa38b7a6",
   "metadata": {},
   "outputs": [],
   "source": [
    "High_happiness_rating= factors_df.query('Happiness_score >= 55.9')\n",
    "Low_happiness_rating= factors_df.query('Happiness_score < 55.9')"
   ]
  },
  {
   "cell_type": "markdown",
   "id": "bf321b58",
   "metadata": {},
   "source": [
    "> The `df.query()` function was once again used to define the areas with high happiness ratings and low happiness ratings"
   ]
  },
  {
   "cell_type": "code",
   "execution_count": 76,
   "id": "e7ff3338",
   "metadata": {},
   "outputs": [
    {
     "name": "stderr",
     "output_type": "stream",
     "text": [
      "C:\\Users\\HP\\anaconda3\\envs\\my_env\\lib\\site-packages\\ipykernel_launcher.py:1: FutureWarning: Dropping of nuisance columns in DataFrame reductions (with 'numeric_only=None') is deprecated; in a future version this will raise TypeError.  Select only valid columns before calling the reduction.\n",
      "  \"\"\"Entry point for launching an IPython kernel.\n"
     ]
    },
    {
     "data": {
      "text/plain": [
       "Life_expectancy    78.424590\n",
       "Unemployment        1.312982\n",
       "Happiness_score    64.673770\n",
       "Avg_education      72.020000\n",
       "dtype: float64"
      ]
     },
     "execution_count": 76,
     "metadata": {},
     "output_type": "execute_result"
    }
   ],
   "source": [
    "High_happiness_rating.mean()"
   ]
  },
  {
   "cell_type": "code",
   "execution_count": 77,
   "id": "56eb20be",
   "metadata": {},
   "outputs": [
    {
     "name": "stderr",
     "output_type": "stream",
     "text": [
      "C:\\Users\\HP\\anaconda3\\envs\\my_env\\lib\\site-packages\\ipykernel_launcher.py:1: FutureWarning: Dropping of nuisance columns in DataFrame reductions (with 'numeric_only=None') is deprecated; in a future version this will raise TypeError.  Select only valid columns before calling the reduction.\n",
      "  \"\"\"Entry point for launching an IPython kernel.\n"
     ]
    },
    {
     "data": {
      "text/plain": [
       "Life_expectancy    69.293333\n",
       "Unemployment        2.559270\n",
       "Happiness_score    45.976667\n",
       "Avg_education      49.520000\n",
       "dtype: float64"
      ]
     },
     "execution_count": 77,
     "metadata": {},
     "output_type": "execute_result"
    }
   ],
   "source": [
    "Low_happiness_rating.mean()"
   ]
  },
  {
   "cell_type": "markdown",
   "id": "4b64e02e",
   "metadata": {},
   "source": [
    "## Conclusions"
   ]
  },
  {
   "cell_type": "markdown",
   "id": "5f6e34bb",
   "metadata": {},
   "source": [
    "Three questions were posed at the beginning of this analysis:\n",
    "  1.  Do regions with higher unemployment rates have happier populations?\n",
    "  2. Are regions with better educated populations happier?\n",
    "  3. Do happier populations have higher life expectancies?\n",
    "  \n",
    "  \n",
    "With the help of the explorations done it is possible to give answers to these questions for the year 2017:\n",
    "  1. No. Based on the analysis, world regions with unemployment rates above the median have on average, a lower happiness rating.\n",
    "  2. Yes. The analysis shows that world regions with an average owid index above the median have a higher average happiness rating.\n",
    "  3. Yes. Higher average life expectancies are shown for populations that received happiness ratings equal to and above the median\n",
    "\n",
    "**Limitations**\n",
    "- These results do not indicate direct correlations between these factors and the happiness ratings of a population as there are many other factors influencing the happiness score that are unaccounted for in this analysis. \n",
    "- The analysis is limited to the year 2017 so the data must be updated to improve its relevance to present day.\n",
    "- From the exploratory result of the `factors_df` dataframe, the analysis also raises questions concerning other possible fators that could be affecting the happiness rating. It shows that Africa has an average happinesss rating of 44.0 while Europe has a rating of 61.3. These regions are both in the high unemployment category yet show a stark difference in the average happiness ratings. This begs the question \"why?\""
   ]
  },
  {
   "cell_type": "markdown",
   "id": "b3b542d7",
   "metadata": {},
   "source": [
    "**The HTML file**\n",
    "\n",
    "[ALX PROJECT 1 -NAOMI AYIBAEMI FRANK-OPIGO](file:///C:/Users/HP/Downloads/ALX%20PROJECT%201%20-NAOMI%20AYIBAEMI%20FRANK-OPIGO.html)\n",
    "\n"
   ]
  },
  {
   "cell_type": "markdown",
   "id": "bf876cf1",
   "metadata": {},
   "source": [
    "**References**\n",
    "- [Stack Overflow](https://stackoverflow.com/questions/)\n",
    "- [Geeks for geeks](https://www.geeksforgeeks.org/plot-multiple-plots-in-matplotlib/)\n",
    "- [Statology](https://www.statology.org/pandas-merge-multiple-columns/#:~:text=How%20to%20Merge%20Pandas%20DataFrames%20on%20Multiple%20Columns,syntax%3A%20pd.merge%28df1%2C%20df2%2C%20left_on%3D%20%5B%27col1%27%2C%27col2%27%5D%2C%20right_on%20%3D%20%5B%27col1%27%2C%27col2%27%5D%29)\n",
    "-[Sparkbyexamples](https://sparkbyexamples.com/pandas/pandas-merge-multiple-dataframes/#:~:text=Pandas%20%2F%20Python%20Pandas%20merge%20%28%29%20function%20is,types%20of%20join%20inner%2C%20left%2C%20right%2C%20outer%2C%20cross.)"
   ]
  },
  {
   "cell_type": "code",
   "execution_count": null,
   "id": "088f727a",
   "metadata": {},
   "outputs": [],
   "source": []
  }
 ],
 "metadata": {
  "kernelspec": {
   "display_name": "Python 3 (ipykernel)",
   "language": "python",
   "name": "python3"
  },
  "language_info": {
   "codemirror_mode": {
    "name": "ipython",
    "version": 3
   },
   "file_extension": ".py",
   "mimetype": "text/x-python",
   "name": "python",
   "nbconvert_exporter": "python",
   "pygments_lexer": "ipython3",
   "version": "3.7.13"
  }
 },
 "nbformat": 4,
 "nbformat_minor": 5
}
